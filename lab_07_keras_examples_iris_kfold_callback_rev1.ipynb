{
  "nbformat": 4,
  "nbformat_minor": 0,
  "metadata": {
    "kernelspec": {
      "display_name": "Python 3",
      "language": "python",
      "name": "python3"
    },
    "language_info": {
      "codemirror_mode": {
        "name": "ipython",
        "version": 3
      },
      "file_extension": ".py",
      "mimetype": "text/x-python",
      "name": "python",
      "nbconvert_exporter": "python",
      "pygments_lexer": "ipython3",
      "version": "3.6.8"
    },
    "colab": {
      "name": "lab_07_keras_examples_iris_kfold_callback_rev1.ipynb",
      "provenance": [],
      "collapsed_sections": [],
      "toc_visible": true,
      "include_colab_link": true
    },
    "accelerator": "GPU"
  },
  "cells": [
    {
      "cell_type": "markdown",
      "metadata": {
        "id": "view-in-github",
        "colab_type": "text"
      },
      "source": [
        "<a href=\"https://colab.research.google.com/github/rtajeong/M4/blob/main/lab_07_keras_examples_iris_kfold_callback_rev1.ipynb\" target=\"_parent\"><img src=\"https://colab.research.google.com/assets/colab-badge.svg\" alt=\"Open In Colab\"/></a>"
      ]
    },
    {
      "cell_type": "markdown",
      "metadata": {
        "id": "uCdyHxGO7ux8"
      },
      "source": [
        "# More on Keras\n",
        "- from \"모두의 딥러닝\""
      ]
    },
    {
      "cell_type": "markdown",
      "metadata": {
        "id": "70crPSVy7uyB"
      },
      "source": [
        "# 12. Multinomial classification\n",
        "- iris data\n",
        "- one-hot encoding\n",
        "- softmax\n",
        "- F-fold cross validation"
      ]
    },
    {
      "cell_type": "code",
      "metadata": {
        "id": "5axxcoz_7uyF"
      },
      "source": [
        "import tensorflow as tf\n",
        "from tensorflow import keras\n",
        "from tensorflow.keras.models import Sequential, load_model\n",
        "from tensorflow.keras.layers import Dense\n",
        "from tensorflow.keras import utils\n",
        "from sklearn.preprocessing import LabelEncoder\n",
        "from sklearn.model_selection import train_test_split\n",
        "\n",
        "import pandas as pd\n",
        "import seaborn as sns\n",
        "import matplotlib.pyplot as plt\n",
        "%matplotlib inline\n",
        "import numpy as np"
      ],
      "execution_count": 18,
      "outputs": []
    },
    {
      "cell_type": "code",
      "metadata": {
        "id": "_1LZ1bMH7uyT",
        "colab": {
          "base_uri": "https://localhost:8080/",
          "height": 206
        },
        "outputId": "a67bdade-e937-4f11-85f6-16df40a5d8a2"
      },
      "source": [
        "np.random.seed(17)\n",
        "iris_data = sns.load_dataset(\"iris\")\n",
        "iris_data.head()"
      ],
      "execution_count": 19,
      "outputs": [
        {
          "output_type": "execute_result",
          "data": {
            "text/html": [
              "\n",
              "  <div id=\"df-b6380088-ee4a-4996-a22c-975c4a938e81\">\n",
              "    <div class=\"colab-df-container\">\n",
              "      <div>\n",
              "<style scoped>\n",
              "    .dataframe tbody tr th:only-of-type {\n",
              "        vertical-align: middle;\n",
              "    }\n",
              "\n",
              "    .dataframe tbody tr th {\n",
              "        vertical-align: top;\n",
              "    }\n",
              "\n",
              "    .dataframe thead th {\n",
              "        text-align: right;\n",
              "    }\n",
              "</style>\n",
              "<table border=\"1\" class=\"dataframe\">\n",
              "  <thead>\n",
              "    <tr style=\"text-align: right;\">\n",
              "      <th></th>\n",
              "      <th>sepal_length</th>\n",
              "      <th>sepal_width</th>\n",
              "      <th>petal_length</th>\n",
              "      <th>petal_width</th>\n",
              "      <th>species</th>\n",
              "    </tr>\n",
              "  </thead>\n",
              "  <tbody>\n",
              "    <tr>\n",
              "      <th>0</th>\n",
              "      <td>5.1</td>\n",
              "      <td>3.5</td>\n",
              "      <td>1.4</td>\n",
              "      <td>0.2</td>\n",
              "      <td>setosa</td>\n",
              "    </tr>\n",
              "    <tr>\n",
              "      <th>1</th>\n",
              "      <td>4.9</td>\n",
              "      <td>3.0</td>\n",
              "      <td>1.4</td>\n",
              "      <td>0.2</td>\n",
              "      <td>setosa</td>\n",
              "    </tr>\n",
              "    <tr>\n",
              "      <th>2</th>\n",
              "      <td>4.7</td>\n",
              "      <td>3.2</td>\n",
              "      <td>1.3</td>\n",
              "      <td>0.2</td>\n",
              "      <td>setosa</td>\n",
              "    </tr>\n",
              "    <tr>\n",
              "      <th>3</th>\n",
              "      <td>4.6</td>\n",
              "      <td>3.1</td>\n",
              "      <td>1.5</td>\n",
              "      <td>0.2</td>\n",
              "      <td>setosa</td>\n",
              "    </tr>\n",
              "    <tr>\n",
              "      <th>4</th>\n",
              "      <td>5.0</td>\n",
              "      <td>3.6</td>\n",
              "      <td>1.4</td>\n",
              "      <td>0.2</td>\n",
              "      <td>setosa</td>\n",
              "    </tr>\n",
              "  </tbody>\n",
              "</table>\n",
              "</div>\n",
              "      <button class=\"colab-df-convert\" onclick=\"convertToInteractive('df-b6380088-ee4a-4996-a22c-975c4a938e81')\"\n",
              "              title=\"Convert this dataframe to an interactive table.\"\n",
              "              style=\"display:none;\">\n",
              "        \n",
              "  <svg xmlns=\"http://www.w3.org/2000/svg\" height=\"24px\"viewBox=\"0 0 24 24\"\n",
              "       width=\"24px\">\n",
              "    <path d=\"M0 0h24v24H0V0z\" fill=\"none\"/>\n",
              "    <path d=\"M18.56 5.44l.94 2.06.94-2.06 2.06-.94-2.06-.94-.94-2.06-.94 2.06-2.06.94zm-11 1L8.5 8.5l.94-2.06 2.06-.94-2.06-.94L8.5 2.5l-.94 2.06-2.06.94zm10 10l.94 2.06.94-2.06 2.06-.94-2.06-.94-.94-2.06-.94 2.06-2.06.94z\"/><path d=\"M17.41 7.96l-1.37-1.37c-.4-.4-.92-.59-1.43-.59-.52 0-1.04.2-1.43.59L10.3 9.45l-7.72 7.72c-.78.78-.78 2.05 0 2.83L4 21.41c.39.39.9.59 1.41.59.51 0 1.02-.2 1.41-.59l7.78-7.78 2.81-2.81c.8-.78.8-2.07 0-2.86zM5.41 20L4 18.59l7.72-7.72 1.47 1.35L5.41 20z\"/>\n",
              "  </svg>\n",
              "      </button>\n",
              "      \n",
              "  <style>\n",
              "    .colab-df-container {\n",
              "      display:flex;\n",
              "      flex-wrap:wrap;\n",
              "      gap: 12px;\n",
              "    }\n",
              "\n",
              "    .colab-df-convert {\n",
              "      background-color: #E8F0FE;\n",
              "      border: none;\n",
              "      border-radius: 50%;\n",
              "      cursor: pointer;\n",
              "      display: none;\n",
              "      fill: #1967D2;\n",
              "      height: 32px;\n",
              "      padding: 0 0 0 0;\n",
              "      width: 32px;\n",
              "    }\n",
              "\n",
              "    .colab-df-convert:hover {\n",
              "      background-color: #E2EBFA;\n",
              "      box-shadow: 0px 1px 2px rgba(60, 64, 67, 0.3), 0px 1px 3px 1px rgba(60, 64, 67, 0.15);\n",
              "      fill: #174EA6;\n",
              "    }\n",
              "\n",
              "    [theme=dark] .colab-df-convert {\n",
              "      background-color: #3B4455;\n",
              "      fill: #D2E3FC;\n",
              "    }\n",
              "\n",
              "    [theme=dark] .colab-df-convert:hover {\n",
              "      background-color: #434B5C;\n",
              "      box-shadow: 0px 1px 3px 1px rgba(0, 0, 0, 0.15);\n",
              "      filter: drop-shadow(0px 1px 2px rgba(0, 0, 0, 0.3));\n",
              "      fill: #FFFFFF;\n",
              "    }\n",
              "  </style>\n",
              "\n",
              "      <script>\n",
              "        const buttonEl =\n",
              "          document.querySelector('#df-b6380088-ee4a-4996-a22c-975c4a938e81 button.colab-df-convert');\n",
              "        buttonEl.style.display =\n",
              "          google.colab.kernel.accessAllowed ? 'block' : 'none';\n",
              "\n",
              "        async function convertToInteractive(key) {\n",
              "          const element = document.querySelector('#df-b6380088-ee4a-4996-a22c-975c4a938e81');\n",
              "          const dataTable =\n",
              "            await google.colab.kernel.invokeFunction('convertToInteractive',\n",
              "                                                     [key], {});\n",
              "          if (!dataTable) return;\n",
              "\n",
              "          const docLinkHtml = 'Like what you see? Visit the ' +\n",
              "            '<a target=\"_blank\" href=https://colab.research.google.com/notebooks/data_table.ipynb>data table notebook</a>'\n",
              "            + ' to learn more about interactive tables.';\n",
              "          element.innerHTML = '';\n",
              "          dataTable['output_type'] = 'display_data';\n",
              "          await google.colab.output.renderOutput(dataTable, element);\n",
              "          const docLink = document.createElement('div');\n",
              "          docLink.innerHTML = docLinkHtml;\n",
              "          element.appendChild(docLink);\n",
              "        }\n",
              "      </script>\n",
              "    </div>\n",
              "  </div>\n",
              "  "
            ],
            "text/plain": [
              "   sepal_length  sepal_width  petal_length  petal_width species\n",
              "0           5.1          3.5           1.4          0.2  setosa\n",
              "1           4.9          3.0           1.4          0.2  setosa\n",
              "2           4.7          3.2           1.3          0.2  setosa\n",
              "3           4.6          3.1           1.5          0.2  setosa\n",
              "4           5.0          3.6           1.4          0.2  setosa"
            ]
          },
          "metadata": {},
          "execution_count": 19
        }
      ]
    },
    {
      "cell_type": "code",
      "metadata": {
        "id": "joA66Ufe7uya"
      },
      "source": [
        "dataset = iris_data.values\n",
        "X = dataset[:,0:4].astype('float')\n",
        "Y_obj = dataset[:,4]\n",
        "\n",
        "Y = LabelEncoder().fit_transform(Y_obj)\n",
        "Y_encoded = utils.to_categorical(Y)   #  one-hot encoding\n",
        "\n",
        "X_train, X_test, Y_train, Y_test = train_test_split(X, Y_encoded, test_size=0.2)"
      ],
      "execution_count": 20,
      "outputs": []
    },
    {
      "cell_type": "code",
      "metadata": {
        "colab": {
          "base_uri": "https://localhost:8080/"
        },
        "id": "mKjSkSrjPS_s",
        "outputId": "118c7008-792c-4807-8090-5bbe8f6faaa8"
      },
      "source": [
        "X_train.shape, Y_train.shape, X_test.shape, Y_test.shape"
      ],
      "execution_count": 21,
      "outputs": [
        {
          "output_type": "execute_result",
          "data": {
            "text/plain": [
              "((120, 4), (120, 3), (30, 4), (30, 3))"
            ]
          },
          "metadata": {},
          "execution_count": 21
        }
      ]
    },
    {
      "cell_type": "code",
      "metadata": {
        "id": "X4bN4kgX7uyg",
        "colab": {
          "base_uri": "https://localhost:8080/"
        },
        "outputId": "04670843-6973-427d-fa72-f10e44915c3c"
      },
      "source": [
        "# model and compile & train & predict(evaluate)\n",
        "model = Sequential()\n",
        "# model.add(Dense(16,  input_dim=4, activation='relu'))\n",
        "model.add(Dense(16,  input_shape=(4,), activation='relu'))\n",
        "model.add(Dense(3, activation='softmax'))\n",
        "model.summary()"
      ],
      "execution_count": 22,
      "outputs": [
        {
          "output_type": "stream",
          "name": "stdout",
          "text": [
            "Model: \"sequential_6\"\n",
            "_________________________________________________________________\n",
            " Layer (type)                Output Shape              Param #   \n",
            "=================================================================\n",
            " dense_12 (Dense)            (None, 16)                80        \n",
            "                                                                 \n",
            " dense_13 (Dense)            (None, 3)                 51        \n",
            "                                                                 \n",
            "=================================================================\n",
            "Total params: 131\n",
            "Trainable params: 131\n",
            "Non-trainable params: 0\n",
            "_________________________________________________________________\n"
          ]
        }
      ]
    },
    {
      "cell_type": "code",
      "metadata": {
        "id": "qVA55goD7uyr"
      },
      "source": [
        "model.compile(loss='categorical_crossentropy',\n",
        "            optimizer='adam',\n",
        "            metrics=['accuracy'])\n",
        "\n",
        "history = model.fit(X_train, Y_train, epochs=100, \n",
        "                    batch_size=20, verbose=0)\n",
        "model.save('iris_model.h5')     # or model.save('iris_model_dir')"
      ],
      "execution_count": 23,
      "outputs": []
    },
    {
      "cell_type": "code",
      "metadata": {
        "id": "wA6psJlU7uyz",
        "colab": {
          "base_uri": "https://localhost:8080/"
        },
        "outputId": "0d4efc7f-e494-443b-bf44-02f689ac057c"
      },
      "source": [
        "from keras.models import load_model\n",
        "del model   # delete existing models in memory\n",
        "model = load_model('iris_model.h5')  # newly call the model\n",
        "print(\"\\n Accuracy: %.4f\" % (model.evaluate(X_test, Y_test)[1]))"
      ],
      "execution_count": 24,
      "outputs": [
        {
          "output_type": "stream",
          "name": "stdout",
          "text": [
            "1/1 [==============================] - 0s 160ms/step - loss: 0.4862 - accuracy: 0.8667\n",
            "\n",
            " Accuracy: 0.8667\n"
          ]
        }
      ]
    },
    {
      "cell_type": "code",
      "metadata": {
        "id": "TfJAAPbbYsLB",
        "colab": {
          "base_uri": "https://localhost:8080/"
        },
        "outputId": "dc1c7733-5d79-4db3-a0c5-cf59f845c46d"
      },
      "source": [
        "X.shape, Y.shape"
      ],
      "execution_count": 25,
      "outputs": [
        {
          "output_type": "execute_result",
          "data": {
            "text/plain": [
              "((150, 4), (150,))"
            ]
          },
          "metadata": {},
          "execution_count": 25
        }
      ]
    },
    {
      "cell_type": "code",
      "metadata": {
        "colab": {
          "base_uri": "https://localhost:8080/"
        },
        "id": "bV4flTDoOgLR",
        "outputId": "dcd637da-f707-4999-8934-b101dbe49f1e"
      },
      "source": [
        "history.history.keys()"
      ],
      "execution_count": 26,
      "outputs": [
        {
          "output_type": "execute_result",
          "data": {
            "text/plain": [
              "dict_keys(['loss', 'accuracy'])"
            ]
          },
          "metadata": {},
          "execution_count": 26
        }
      ]
    },
    {
      "cell_type": "code",
      "metadata": {
        "colab": {
          "base_uri": "https://localhost:8080/",
          "height": 283
        },
        "id": "5cunlwaLOk_x",
        "outputId": "d381c4a9-8cce-4680-e555-b3382b7a5080"
      },
      "source": [
        "plt.subplot(1,2,1)\n",
        "plt.plot(history.history['loss'])\n",
        "plt.subplot(1,2,2)\n",
        "plt.plot(history.history['accuracy'])"
      ],
      "execution_count": 27,
      "outputs": [
        {
          "output_type": "execute_result",
          "data": {
            "text/plain": [
              "[<matplotlib.lines.Line2D at 0x7f2d15015e90>]"
            ]
          },
          "metadata": {},
          "execution_count": 27
        },
        {
          "output_type": "display_data",
          "data": {
            "image/png": "[encoded data removed]",
            "text/plain": [
              "<Figure size 432x288 with 2 Axes>"
            ]
          },
          "metadata": {
            "needs_background": "light"
          }
        }
      ]
    },
    {
      "cell_type": "code",
      "metadata": {
        "colab": {
          "base_uri": "https://localhost:8080/"
        },
        "id": "rYd8p2FHP9Ul",
        "outputId": "bbd2213e-2f7d-4e85-8479-883c2d318605"
      },
      "source": [
        "model.evaluate(X_test, Y_test)"
      ],
      "execution_count": 28,
      "outputs": [
        {
          "output_type": "stream",
          "name": "stdout",
          "text": [
            "1/1 [==============================] - 0s 28ms/step - loss: 0.4862 - accuracy: 0.8667\n"
          ]
        },
        {
          "output_type": "execute_result",
          "data": {
            "text/plain": [
              "[0.4861551821231842, 0.8666666746139526]"
            ]
          },
          "metadata": {},
          "execution_count": 28
        }
      ]
    },
    {
      "cell_type": "code",
      "metadata": {
        "colab": {
          "base_uri": "https://localhost:8080/"
        },
        "id": "ho7A74LZQMF8",
        "outputId": "141a1d47-12ca-40e9-a844-f73fea44eff6"
      },
      "source": [
        "Y_pred = model.predict(X_test)\n",
        "tf.math.confusion_matrix(Y_test.argmax(1), Y_pred.argmax(1))"
      ],
      "execution_count": 29,
      "outputs": [
        {
          "output_type": "execute_result",
          "data": {
            "text/plain": [
              "<tf.Tensor: shape=(3, 3), dtype=int32, numpy=\n",
              "array([[ 7,  0,  0],\n",
              "       [ 0,  8,  3],\n",
              "       [ 0,  1, 11]], dtype=int32)>"
            ]
          },
          "metadata": {},
          "execution_count": 29
        }
      ]
    },
    {
      "cell_type": "markdown",
      "metadata": {
        "id": "KitK6yZf7uzE"
      },
      "source": [
        "# K-fold validation"
      ]
    },
    {
      "cell_type": "code",
      "metadata": {
        "colab": {
          "base_uri": "https://localhost:8080/"
        },
        "id": "5wZd1FQWVMFr",
        "outputId": "36ab8c70-2ded-42ac-ea26-19138d5faeac"
      },
      "source": [
        "X.shape, Y.shape"
      ],
      "execution_count": 30,
      "outputs": [
        {
          "output_type": "execute_result",
          "data": {
            "text/plain": [
              "((150, 4), (150,))"
            ]
          },
          "metadata": {},
          "execution_count": 30
        }
      ]
    },
    {
      "cell_type": "code",
      "metadata": {
        "id": "yuLk6qSk7uzF"
      },
      "source": [
        "from sklearn.model_selection import StratifiedKFold\n",
        "\n",
        "n_fold = 5\n",
        "skf = StratifiedKFold(n_splits=n_fold, shuffle=True, random_state=17)\n",
        "\n",
        "cvscores = []\n",
        "for train_index, test_index in skf.split(X, Y):\n",
        "    model = Sequential()\n",
        "    model.add(Dense(16,  input_shape=(4,), activation='relu'))\n",
        "    model.add(Dense(3, activation='softmax'))\n",
        "    model.compile(loss='categorical_crossentropy',\n",
        "                  optimizer='adam', \n",
        "                  metrics=['accuracy'])\n",
        "    X_train, X_test = X[train_index], X[test_index]\n",
        "    y_train, y_test = Y[train_index], Y[test_index]\n",
        "    y_train_enc = utils.to_categorical(y_train)\n",
        "    y_test_enc = utils.to_categorical(y_test)\n",
        "    \n",
        "    model.fit(X_train, y_train_enc, epochs=30, batch_size=5, verbose=0)\n",
        "    score = model.evaluate(X_test, y_test_enc, verbose=0)\n",
        "    cvscores.append(score)"
      ],
      "execution_count": 31,
      "outputs": []
    },
    {
      "cell_type": "code",
      "metadata": {
        "id": "V6WIi1FtYL-Z",
        "colab": {
          "base_uri": "https://localhost:8080/"
        },
        "outputId": "02dce21d-12f2-4207-d59a-bb8396ca3a50"
      },
      "source": [
        "model.metrics_names, cvscores, np.mean(cvscores, axis=0)"
      ],
      "execution_count": 32,
      "outputs": [
        {
          "output_type": "execute_result",
          "data": {
            "text/plain": [
              "(['loss', 'accuracy'],\n",
              " [[0.3532349169254303, 0.9666666388511658],\n",
              "  [0.37776872515678406, 0.8999999761581421],\n",
              "  [0.3750266432762146, 0.9666666388511658],\n",
              "  [0.44036927819252014, 0.9666666388511658],\n",
              "  [0.34453946352005005, 0.9666666388511658]],\n",
              " array([0.37818781, 0.95333331]))"
            ]
          },
          "metadata": {},
          "execution_count": 32
        }
      ]
    },
    {
      "cell_type": "markdown",
      "metadata": {
        "id": "UzbpqKRk7uzT"
      },
      "source": [
        "# 14. Callback - check point and early stopping\n",
        "- Callback 함수: 명시적으로 호출되는 게 아니라 나중에 어떤 event 가 발생했을 때 호출되는 함수"
      ]
    },
    {
      "cell_type": "code",
      "metadata": {
        "id": "gafjD4O27uzU"
      },
      "source": [
        "from tensorflow.keras.models import Sequential\n",
        "from tensorflow.keras.layers import Dense\n",
        "from tensorflow.keras.callbacks import ModelCheckpoint, EarlyStopping\n",
        "\n",
        "import pandas as pd\n",
        "import numpy as np\n",
        "import os\n",
        "import tensorflow as tf"
      ],
      "execution_count": 33,
      "outputs": []
    },
    {
      "cell_type": "markdown",
      "metadata": {
        "id": "ZHNY7zxnk0YG"
      },
      "source": [
        "- download wine.csv from https://codedragon.tistory.com/9480\n",
        "  - class 1: red wine, 0: white wine"
      ]
    },
    {
      "cell_type": "code",
      "metadata": {
        "id": "bj5eEiks7uzY",
        "colab": {
          "base_uri": "https://localhost:8080/"
        },
        "outputId": "182430be-6b2e-4bf7-a27a-3dfbadd3869a"
      },
      "source": [
        "df_all = pd.read_csv('wine.csv', header=None)\n",
        "df = df_all.sample(frac=0.2)  # get only 20% of dataset\n",
        "df.shape"
      ],
      "execution_count": 34,
      "outputs": [
        {
          "output_type": "execute_result",
          "data": {
            "text/plain": [
              "(1299, 13)"
            ]
          },
          "metadata": {},
          "execution_count": 34
        }
      ]
    },
    {
      "cell_type": "code",
      "metadata": {
        "id": "TY5sKbdJnQBQ",
        "colab": {
          "base_uri": "https://localhost:8080/",
          "height": 81
        },
        "outputId": "f1051697-fa5e-4326-ba23-9b1970329e1a"
      },
      "source": [
        "df.head(1)"
      ],
      "execution_count": 35,
      "outputs": [
        {
          "output_type": "execute_result",
          "data": {
            "text/html": [
              "\n",
              "  <div id=\"df-5426a871-21d2-4e36-b488-480c9251899c\">\n",
              "    <div class=\"colab-df-container\">\n",
              "      <div>\n",
              "<style scoped>\n",
              "    .dataframe tbody tr th:only-of-type {\n",
              "        vertical-align: middle;\n",
              "    }\n",
              "\n",
              "    .dataframe tbody tr th {\n",
              "        vertical-align: top;\n",
              "    }\n",
              "\n",
              "    .dataframe thead th {\n",
              "        text-align: right;\n",
              "    }\n",
              "</style>\n",
              "<table border=\"1\" class=\"dataframe\">\n",
              "  <thead>\n",
              "    <tr style=\"text-align: right;\">\n",
              "      <th></th>\n",
              "      <th>0</th>\n",
              "      <th>1</th>\n",
              "      <th>2</th>\n",
              "      <th>3</th>\n",
              "      <th>4</th>\n",
              "      <th>5</th>\n",
              "      <th>6</th>\n",
              "      <th>7</th>\n",
              "      <th>8</th>\n",
              "      <th>9</th>\n",
              "      <th>10</th>\n",
              "      <th>11</th>\n",
              "      <th>12</th>\n",
              "    </tr>\n",
              "  </thead>\n",
              "  <tbody>\n",
              "    <tr>\n",
              "      <th>3896</th>\n",
              "      <td>6.5</td>\n",
              "      <td>0.29</td>\n",
              "      <td>0.42</td>\n",
              "      <td>10.6</td>\n",
              "      <td>0.042</td>\n",
              "      <td>66.0</td>\n",
              "      <td>202.0</td>\n",
              "      <td>0.99674</td>\n",
              "      <td>3.24</td>\n",
              "      <td>0.53</td>\n",
              "      <td>9.5</td>\n",
              "      <td>6</td>\n",
              "      <td>0</td>\n",
              "    </tr>\n",
              "  </tbody>\n",
              "</table>\n",
              "</div>\n",
              "      <button class=\"colab-df-convert\" onclick=\"convertToInteractive('df-5426a871-21d2-4e36-b488-480c9251899c')\"\n",
              "              title=\"Convert this dataframe to an interactive table.\"\n",
              "              style=\"display:none;\">\n",
              "        \n",
              "  <svg xmlns=\"http://www.w3.org/2000/svg\" height=\"24px\"viewBox=\"0 0 24 24\"\n",
              "       width=\"24px\">\n",
              "    <path d=\"M0 0h24v24H0V0z\" fill=\"none\"/>\n",
              "    <path d=\"M18.56 5.44l.94 2.06.94-2.06 2.06-.94-2.06-.94-.94-2.06-.94 2.06-2.06.94zm-11 1L8.5 8.5l.94-2.06 2.06-.94-2.06-.94L8.5 2.5l-.94 2.06-2.06.94zm10 10l.94 2.06.94-2.06 2.06-.94-2.06-.94-.94-2.06-.94 2.06-2.06.94z\"/><path d=\"M17.41 7.96l-1.37-1.37c-.4-.4-.92-.59-1.43-.59-.52 0-1.04.2-1.43.59L10.3 9.45l-7.72 7.72c-.78.78-.78 2.05 0 2.83L4 21.41c.39.39.9.59 1.41.59.51 0 1.02-.2 1.41-.59l7.78-7.78 2.81-2.81c.8-.78.8-2.07 0-2.86zM5.41 20L4 18.59l7.72-7.72 1.47 1.35L5.41 20z\"/>\n",
              "  </svg>\n",
              "      </button>\n",
              "      \n",
              "  <style>\n",
              "    .colab-df-container {\n",
              "      display:flex;\n",
              "      flex-wrap:wrap;\n",
              "      gap: 12px;\n",
              "    }\n",
              "\n",
              "    .colab-df-convert {\n",
              "      background-color: #E8F0FE;\n",
              "      border: none;\n",
              "      border-radius: 50%;\n",
              "      cursor: pointer;\n",
              "      display: none;\n",
              "      fill: #1967D2;\n",
              "      height: 32px;\n",
              "      padding: 0 0 0 0;\n",
              "      width: 32px;\n",
              "    }\n",
              "\n",
              "    .colab-df-convert:hover {\n",
              "      background-color: #E2EBFA;\n",
              "      box-shadow: 0px 1px 2px rgba(60, 64, 67, 0.3), 0px 1px 3px 1px rgba(60, 64, 67, 0.15);\n",
              "      fill: #174EA6;\n",
              "    }\n",
              "\n",
              "    [theme=dark] .colab-df-convert {\n",
              "      background-color: #3B4455;\n",
              "      fill: #D2E3FC;\n",
              "    }\n",
              "\n",
              "    [theme=dark] .colab-df-convert:hover {\n",
              "      background-color: #434B5C;\n",
              "      box-shadow: 0px 1px 3px 1px rgba(0, 0, 0, 0.15);\n",
              "      filter: drop-shadow(0px 1px 2px rgba(0, 0, 0, 0.3));\n",
              "      fill: #FFFFFF;\n",
              "    }\n",
              "  </style>\n",
              "\n",
              "      <script>\n",
              "        const buttonEl =\n",
              "          document.querySelector('#df-5426a871-21d2-4e36-b488-480c9251899c button.colab-df-convert');\n",
              "        buttonEl.style.display =\n",
              "          google.colab.kernel.accessAllowed ? 'block' : 'none';\n",
              "\n",
              "        async function convertToInteractive(key) {\n",
              "          const element = document.querySelector('#df-5426a871-21d2-4e36-b488-480c9251899c');\n",
              "          const dataTable =\n",
              "            await google.colab.kernel.invokeFunction('convertToInteractive',\n",
              "                                                     [key], {});\n",
              "          if (!dataTable) return;\n",
              "\n",
              "          const docLinkHtml = 'Like what you see? Visit the ' +\n",
              "            '<a target=\"_blank\" href=https://colab.research.google.com/notebooks/data_table.ipynb>data table notebook</a>'\n",
              "            + ' to learn more about interactive tables.';\n",
              "          element.innerHTML = '';\n",
              "          dataTable['output_type'] = 'display_data';\n",
              "          await google.colab.output.renderOutput(dataTable, element);\n",
              "          const docLink = document.createElement('div');\n",
              "          docLink.innerHTML = docLinkHtml;\n",
              "          element.appendChild(docLink);\n",
              "        }\n",
              "      </script>\n",
              "    </div>\n",
              "  </div>\n",
              "  "
            ],
            "text/plain": [
              "       0     1     2     3      4     5   ...       7     8     9    10  11  12\n",
              "3896  6.5  0.29  0.42  10.6  0.042  66.0  ...  0.99674  3.24  0.53  9.5   6   0\n",
              "\n",
              "[1 rows x 13 columns]"
            ]
          },
          "metadata": {},
          "execution_count": 35
        }
      ]
    },
    {
      "cell_type": "code",
      "metadata": {
        "id": "dV8EsphhnWsH",
        "colab": {
          "base_uri": "https://localhost:8080/"
        },
        "outputId": "79cef041-2e76-4ae5-89ce-93246395c6a8"
      },
      "source": [
        "df[12].value_counts()"
      ],
      "execution_count": 36,
      "outputs": [
        {
          "output_type": "execute_result",
          "data": {
            "text/plain": [
              "0    984\n",
              "1    315\n",
              "Name: 12, dtype: int64"
            ]
          },
          "metadata": {},
          "execution_count": 36
        }
      ]
    },
    {
      "cell_type": "code",
      "metadata": {
        "id": "Yd7tFmGT7uzd"
      },
      "source": [
        "dataset = df.values\n",
        "X, y = dataset[:,0:12], dataset[:,12]\n",
        "\n",
        "model = Sequential()\n",
        "model.add(Dense(30,  input_dim=12, activation='relu'))\n",
        "model.add(Dense(12, activation='relu'))\n",
        "model.add(Dense(8, activation='relu'))\n",
        "model.add(Dense(1, activation='sigmoid'))\n",
        "\n",
        "model.compile(loss='binary_crossentropy',\n",
        "          optimizer='adam',\n",
        "          metrics=['accuracy'])\n",
        "\n",
        "# 모델 저장 폴더 만들기\n",
        "MODEL_DIR = './model/'\n",
        "if not os.path.exists(MODEL_DIR):\n",
        "    os.mkdir(MODEL_DIR)\n",
        "\n",
        "modelpath=\"./model/{epoch:02d}-{val_loss:.4f}.hdf5\"\n",
        "\n",
        "# 모델 업데이트 및 저장 (epoch 마다)\n",
        "checkpointer = ModelCheckpoint(filepath=modelpath, \n",
        "                               monitor='val_loss', \n",
        "                               verbose=1, \n",
        "                               save_best_only=True)  # record only when imrpoved\n",
        "\n",
        "# 테스트 오차가 줄지 않으면 학습 자동 중단 설정 (모니터할 값 저장)\n",
        "early_stopping_callback = EarlyStopping(monitor='val_loss', \n",
        "                                        patience=100) # 좋아지지 않아도 몇 번까지 기다릴것인지"
      ],
      "execution_count": 37,
      "outputs": []
    },
    {
      "cell_type": "code",
      "metadata": {
        "scrolled": true,
        "id": "--_bUDPb7uzp",
        "colab": {
          "base_uri": "https://localhost:8080/",
          "height": 1000
        },
        "outputId": "847e9418-ca84-4097-9645-854fdc30fbd3"
      },
      "source": [
        "y_loss, y_acc, y_vloss, y_vacc = [], [], [], []\n",
        "\n",
        "history = model.fit(X, y, validation_split=0.2, \n",
        "                    epochs=2000, batch_size=100, verbose=0, \n",
        "                    callbacks=[early_stopping_callback,checkpointer])\n",
        "y_loss = history.history['loss']\n",
        "y_acc = history.history['accuracy']\n",
        "y_vloss = history.history['val_loss']\n",
        "y_vacc = history.history['val_accuracy']\n",
        "x_len = np.arange(len(y_acc))\n",
        "plt.ylim(0.,1.)\n",
        "plt.title(\"Traing\")\n",
        "plt.plot(x_len, y_loss, \"o\", c=\"r\", markersize=3)\n",
        "plt.plot(x_len, y_acc, \"o\", c=\"b\", markersize=3)\n",
        "plt.show()\n",
        "plt.title(\"Validation\")\n",
        "plt.ylim(0.,1.)\n",
        "plt.plot(x_len, y_vloss, \"o\", c=\"r\", markersize=3)\n",
        "plt.plot(x_len, y_vacc, \"o\", c=\"b\", markersize=3)\n",
        "plt.show()"
      ],
      "execution_count": 38,
      "outputs": [
        {
          "output_type": "stream",
          "name": "stdout",
          "text": [
            "\n",
            "Epoch 00001: val_loss improved from inf to 1.39656, saving model to ./model/01-1.3966.hdf5\n",
            "\n",
            "Epoch 00002: val_loss improved from 1.39656 to 0.50489, saving model to ./model/02-0.5049.hdf5\n",
            "\n",
            "Epoch 00003: val_loss improved from 0.50489 to 0.25595, saving model to ./model/03-0.2559.hdf5\n",
            "\n",
            "Epoch 00004: val_loss improved from 0.25595 to 0.21003, saving model to ./model/04-0.2100.hdf5\n",
            "\n",
            "Epoch 00005: val_loss improved from 0.21003 to 0.20488, saving model to ./model/05-0.2049.hdf5\n",
            "\n",
            "Epoch 00006: val_loss improved from 0.20488 to 0.19912, saving model to ./model/06-0.1991.hdf5\n",
            "\n",
            "Epoch 00007: val_loss improved from 0.19912 to 0.19408, saving model to ./model/07-0.1941.hdf5\n",
            "\n",
            "Epoch 00008: val_loss improved from 0.19408 to 0.19008, saving model to ./model/08-0.1901.hdf5\n",
            "\n",
            "Epoch 00009: val_loss improved from 0.19008 to 0.18957, saving model to ./model/09-0.1896.hdf5\n",
            "\n",
            "Epoch 00010: val_loss improved from 0.18957 to 0.18719, saving model to ./model/10-0.1872.hdf5\n",
            "\n",
            "Epoch 00011: val_loss improved from 0.18719 to 0.18607, saving model to ./model/11-0.1861.hdf5\n",
            "\n",
            "Epoch 00012: val_loss improved from 0.18607 to 0.18534, saving model to ./model/12-0.1853.hdf5\n",
            "\n",
            "Epoch 00013: val_loss improved from 0.18534 to 0.18429, saving model to ./model/13-0.1843.hdf5\n",
            "\n",
            "Epoch 00014: val_loss improved from 0.18429 to 0.18414, saving model to ./model/14-0.1841.hdf5\n",
            "\n",
            "Epoch 00015: val_loss improved from 0.18414 to 0.18411, saving model to ./model/15-0.1841.hdf5\n",
            "\n",
            "Epoch 00016: val_loss improved from 0.18411 to 0.18129, saving model to ./model/16-0.1813.hdf5\n",
            "\n",
            "Epoch 00017: val_loss did not improve from 0.18129\n",
            "\n",
            "Epoch 00018: val_loss improved from 0.18129 to 0.18117, saving model to ./model/18-0.1812.hdf5\n",
            "\n",
            "Epoch 00019: val_loss improved from 0.18117 to 0.17918, saving model to ./model/19-0.1792.hdf5\n",
            "\n",
            "Epoch 00020: val_loss did not improve from 0.17918\n",
            "\n",
            "Epoch 00021: val_loss improved from 0.17918 to 0.17883, saving model to ./model/21-0.1788.hdf5\n",
            "\n",
            "Epoch 00022: val_loss improved from 0.17883 to 0.17738, saving model to ./model/22-0.1774.hdf5\n",
            "\n",
            "Epoch 00023: val_loss did not improve from 0.17738\n",
            "\n",
            "Epoch 00024: val_loss improved from 0.17738 to 0.17574, saving model to ./model/24-0.1757.hdf5\n",
            "\n",
            "Epoch 00025: val_loss did not improve from 0.17574\n",
            "\n",
            "Epoch 00026: val_loss improved from 0.17574 to 0.17511, saving model to ./model/26-0.1751.hdf5\n",
            "\n",
            "Epoch 00027: val_loss improved from 0.17511 to 0.17344, saving model to ./model/27-0.1734.hdf5\n",
            "\n",
            "Epoch 00028: val_loss did not improve from 0.17344\n",
            "\n",
            "Epoch 00029: val_loss improved from 0.17344 to 0.17341, saving model to ./model/29-0.1734.hdf5\n",
            "\n",
            "Epoch 00030: val_loss improved from 0.17341 to 0.17186, saving model to ./model/30-0.1719.hdf5\n",
            "\n",
            "Epoch 00031: val_loss improved from 0.17186 to 0.17056, saving model to ./model/31-0.1706.hdf5\n",
            "\n",
            "Epoch 00032: val_loss improved from 0.17056 to 0.16935, saving model to ./model/32-0.1693.hdf5\n",
            "\n",
            "Epoch 00033: val_loss improved from 0.16935 to 0.16866, saving model to ./model/33-0.1687.hdf5\n",
            "\n",
            "Epoch 00034: val_loss did not improve from 0.16866\n",
            "\n",
            "Epoch 00035: val_loss improved from 0.16866 to 0.16759, saving model to ./model/35-0.1676.hdf5\n",
            "\n",
            "Epoch 00036: val_loss improved from 0.16759 to 0.16391, saving model to ./model/36-0.1639.hdf5\n",
            "\n",
            "Epoch 00037: val_loss did not improve from 0.16391\n",
            "\n",
            "Epoch 00038: val_loss did not improve from 0.16391\n",
            "\n",
            "Epoch 00039: val_loss improved from 0.16391 to 0.16220, saving model to ./model/39-0.1622.hdf5\n",
            "\n",
            "Epoch 00040: val_loss improved from 0.16220 to 0.15941, saving model to ./model/40-0.1594.hdf5\n",
            "\n",
            "Epoch 00041: val_loss did not improve from 0.15941\n",
            "\n",
            "Epoch 00042: val_loss improved from 0.15941 to 0.15697, saving model to ./model/42-0.1570.hdf5\n",
            "\n",
            "Epoch 00043: val_loss did not improve from 0.15697\n",
            "\n",
            "Epoch 00044: val_loss improved from 0.15697 to 0.15645, saving model to ./model/44-0.1565.hdf5\n",
            "\n",
            "Epoch 00045: val_loss improved from 0.15645 to 0.15271, saving model to ./model/45-0.1527.hdf5\n",
            "\n",
            "Epoch 00046: val_loss did not improve from 0.15271\n",
            "\n",
            "Epoch 00047: val_loss improved from 0.15271 to 0.14968, saving model to ./model/47-0.1497.hdf5\n",
            "\n",
            "Epoch 00048: val_loss improved from 0.14968 to 0.14770, saving model to ./model/48-0.1477.hdf5\n",
            "\n",
            "Epoch 00049: val_loss did not improve from 0.14770\n",
            "\n",
            "Epoch 00050: val_loss improved from 0.14770 to 0.14584, saving model to ./model/50-0.1458.hdf5\n",
            "\n",
            "Epoch 00051: val_loss did not improve from 0.14584\n",
            "\n",
            "Epoch 00052: val_loss improved from 0.14584 to 0.14084, saving model to ./model/52-0.1408.hdf5\n",
            "\n",
            "Epoch 00053: val_loss did not improve from 0.14084\n",
            "\n",
            "Epoch 00054: val_loss improved from 0.14084 to 0.13135, saving model to ./model/54-0.1313.hdf5\n",
            "\n",
            "Epoch 00055: val_loss improved from 0.13135 to 0.12860, saving model to ./model/55-0.1286.hdf5\n",
            "\n",
            "Epoch 00056: val_loss improved from 0.12860 to 0.12686, saving model to ./model/56-0.1269.hdf5\n",
            "\n",
            "Epoch 00057: val_loss did not improve from 0.12686\n",
            "\n",
            "Epoch 00058: val_loss improved from 0.12686 to 0.12632, saving model to ./model/58-0.1263.hdf5\n",
            "\n",
            "Epoch 00059: val_loss improved from 0.12632 to 0.12259, saving model to ./model/59-0.1226.hdf5\n",
            "\n",
            "Epoch 00060: val_loss improved from 0.12259 to 0.12112, saving model to ./model/60-0.1211.hdf5\n",
            "\n",
            "Epoch 00061: val_loss did not improve from 0.12112\n",
            "\n",
            "Epoch 00062: val_loss improved from 0.12112 to 0.11765, saving model to ./model/62-0.1176.hdf5\n",
            "\n",
            "Epoch 00063: val_loss improved from 0.11765 to 0.11729, saving model to ./model/63-0.1173.hdf5\n",
            "\n",
            "Epoch 00064: val_loss improved from 0.11729 to 0.11388, saving model to ./model/64-0.1139.hdf5\n",
            "\n",
            "Epoch 00065: val_loss improved from 0.11388 to 0.11349, saving model to ./model/65-0.1135.hdf5\n",
            "\n",
            "Epoch 00066: val_loss improved from 0.11349 to 0.11191, saving model to ./model/66-0.1119.hdf5\n",
            "\n",
            "Epoch 00067: val_loss did not improve from 0.11191\n",
            "\n",
            "Epoch 00068: val_loss improved from 0.11191 to 0.11167, saving model to ./model/68-0.1117.hdf5\n",
            "\n",
            "Epoch 00069: val_loss improved from 0.11167 to 0.10870, saving model to ./model/69-0.1087.hdf5\n",
            "\n",
            "Epoch 00070: val_loss improved from 0.10870 to 0.10523, saving model to ./model/70-0.1052.hdf5\n",
            "\n",
            "Epoch 00071: val_loss did not improve from 0.10523\n",
            "\n",
            "Epoch 00072: val_loss did not improve from 0.10523\n",
            "\n",
            "Epoch 00073: val_loss did not improve from 0.10523\n",
            "\n",
            "Epoch 00074: val_loss did not improve from 0.10523\n",
            "\n",
            "Epoch 00075: val_loss did not improve from 0.10523\n",
            "\n",
            "Epoch 00076: val_loss did not improve from 0.10523\n",
            "\n",
            "Epoch 00077: val_loss did not improve from 0.10523\n",
            "\n",
            "Epoch 00078: val_loss did not improve from 0.10523\n",
            "\n",
            "Epoch 00079: val_loss did not improve from 0.10523\n",
            "\n",
            "Epoch 00080: val_loss did not improve from 0.10523\n",
            "\n",
            "Epoch 00081: val_loss did not improve from 0.10523\n",
            "\n",
            "Epoch 00082: val_loss improved from 0.10523 to 0.09566, saving model to ./model/82-0.0957.hdf5\n",
            "\n",
            "Epoch 00083: val_loss did not improve from 0.09566\n",
            "\n",
            "Epoch 00084: val_loss did not improve from 0.09566\n",
            "\n",
            "Epoch 00085: val_loss did not improve from 0.09566\n",
            "\n",
            "Epoch 00086: val_loss did not improve from 0.09566\n",
            "\n",
            "Epoch 00087: val_loss did not improve from 0.09566\n",
            "\n",
            "Epoch 00088: val_loss improved from 0.09566 to 0.09458, saving model to ./model/88-0.0946.hdf5\n",
            "\n",
            "Epoch 00089: val_loss did not improve from 0.09458\n",
            "\n",
            "Epoch 00090: val_loss did not improve from 0.09458\n",
            "\n",
            "Epoch 00091: val_loss did not improve from 0.09458\n",
            "\n",
            "Epoch 00092: val_loss improved from 0.09458 to 0.09359, saving model to ./model/92-0.0936.hdf5\n",
            "\n",
            "Epoch 00093: val_loss improved from 0.09359 to 0.09228, saving model to ./model/93-0.0923.hdf5\n",
            "\n",
            "Epoch 00094: val_loss did not improve from 0.09228\n",
            "\n",
            "Epoch 00095: val_loss improved from 0.09228 to 0.09074, saving model to ./model/95-0.0907.hdf5\n",
            "\n",
            "Epoch 00096: val_loss did not improve from 0.09074\n",
            "\n",
            "Epoch 00097: val_loss did not improve from 0.09074\n",
            "\n",
            "Epoch 00098: val_loss did not improve from 0.09074\n",
            "\n",
            "Epoch 00099: val_loss did not improve from 0.09074\n",
            "\n",
            "Epoch 00100: val_loss improved from 0.09074 to 0.08709, saving model to ./model/100-0.0871.hdf5\n",
            "\n",
            "Epoch 00101: val_loss did not improve from 0.08709\n",
            "\n",
            "Epoch 00102: val_loss did not improve from 0.08709\n",
            "\n",
            "Epoch 00103: val_loss did not improve from 0.08709\n",
            "\n",
            "Epoch 00104: val_loss did not improve from 0.08709\n",
            "\n",
            "Epoch 00105: val_loss did not improve from 0.08709\n",
            "\n",
            "Epoch 00106: val_loss did not improve from 0.08709\n",
            "\n",
            "Epoch 00107: val_loss did not improve from 0.08709\n",
            "\n",
            "Epoch 00108: val_loss did not improve from 0.08709\n",
            "\n",
            "Epoch 00109: val_loss did not improve from 0.08709\n",
            "\n",
            "Epoch 00110: val_loss did not improve from 0.08709\n",
            "\n",
            "Epoch 00111: val_loss did not improve from 0.08709\n",
            "\n",
            "Epoch 00112: val_loss did not improve from 0.08709\n",
            "\n",
            "Epoch 00113: val_loss did not improve from 0.08709\n",
            "\n",
            "Epoch 00114: val_loss did not improve from 0.08709\n",
            "\n",
            "Epoch 00115: val_loss did not improve from 0.08709\n",
            "\n",
            "Epoch 00116: val_loss improved from 0.08709 to 0.08524, saving model to ./model/116-0.0852.hdf5\n",
            "\n",
            "Epoch 00117: val_loss improved from 0.08524 to 0.08410, saving model to ./model/117-0.0841.hdf5\n",
            "\n",
            "Epoch 00118: val_loss did not improve from 0.08410\n",
            "\n",
            "Epoch 00119: val_loss did not improve from 0.08410\n",
            "\n",
            "Epoch 00120: val_loss did not improve from 0.08410\n",
            "\n",
            "Epoch 00121: val_loss did not improve from 0.08410\n",
            "\n",
            "Epoch 00122: val_loss improved from 0.08410 to 0.08281, saving model to ./model/122-0.0828.hdf5\n",
            "\n",
            "Epoch 00123: val_loss did not improve from 0.08281\n",
            "\n",
            "Epoch 00124: val_loss did not improve from 0.08281\n",
            "\n",
            "Epoch 00125: val_loss did not improve from 0.08281\n",
            "\n",
            "Epoch 00126: val_loss did not improve from 0.08281\n",
            "\n",
            "Epoch 00127: val_loss improved from 0.08281 to 0.07893, saving model to ./model/127-0.0789.hdf5\n",
            "\n",
            "Epoch 00128: val_loss did not improve from 0.07893\n",
            "\n",
            "Epoch 00129: val_loss did not improve from 0.07893\n",
            "\n",
            "Epoch 00130: val_loss did not improve from 0.07893\n",
            "\n",
            "Epoch 00131: val_loss did not improve from 0.07893\n",
            "\n",
            "Epoch 00132: val_loss did not improve from 0.07893\n",
            "\n",
            "Epoch 00133: val_loss improved from 0.07893 to 0.07573, saving model to ./model/133-0.0757.hdf5\n",
            "\n",
            "Epoch 00134: val_loss did not improve from 0.07573\n",
            "\n",
            "Epoch 00135: val_loss did not improve from 0.07573\n",
            "\n",
            "Epoch 00136: val_loss did not improve from 0.07573\n",
            "\n",
            "Epoch 00137: val_loss did not improve from 0.07573\n",
            "\n",
            "Epoch 00138: val_loss did not improve from 0.07573\n",
            "\n",
            "Epoch 00139: val_loss did not improve from 0.07573\n",
            "\n",
            "Epoch 00140: val_loss did not improve from 0.07573\n",
            "\n",
            "Epoch 00141: val_loss improved from 0.07573 to 0.07537, saving model to ./model/141-0.0754.hdf5\n",
            "\n",
            "Epoch 00142: val_loss did not improve from 0.07537\n",
            "\n",
            "Epoch 00143: val_loss improved from 0.07537 to 0.07496, saving model to ./model/143-0.0750.hdf5\n",
            "\n",
            "Epoch 00144: val_loss did not improve from 0.07496\n",
            "\n",
            "Epoch 00145: val_loss did not improve from 0.07496\n",
            "\n",
            "Epoch 00146: val_loss did not improve from 0.07496\n",
            "\n",
            "Epoch 00147: val_loss did not improve from 0.07496\n",
            "\n",
            "Epoch 00148: val_loss did not improve from 0.07496\n",
            "\n",
            "Epoch 00149: val_loss did not improve from 0.07496\n",
            "\n",
            "Epoch 00150: val_loss improved from 0.07496 to 0.07440, saving model to ./model/150-0.0744.hdf5\n",
            "\n",
            "Epoch 00151: val_loss did not improve from 0.07440\n",
            "\n",
            "Epoch 00152: val_loss did not improve from 0.07440\n",
            "\n",
            "Epoch 00153: val_loss did not improve from 0.07440\n",
            "\n",
            "Epoch 00154: val_loss improved from 0.07440 to 0.07387, saving model to ./model/154-0.0739.hdf5\n",
            "\n",
            "Epoch 00155: val_loss improved from 0.07387 to 0.07099, saving model to ./model/155-0.0710.hdf5\n",
            "\n",
            "Epoch 00156: val_loss did not improve from 0.07099\n",
            "\n",
            "Epoch 00157: val_loss did not improve from 0.07099\n",
            "\n",
            "Epoch 00158: val_loss did not improve from 0.07099\n",
            "\n",
            "Epoch 00159: val_loss did not improve from 0.07099\n",
            "\n",
            "Epoch 00160: val_loss did not improve from 0.07099\n",
            "\n",
            "Epoch 00161: val_loss improved from 0.07099 to 0.07023, saving model to ./model/161-0.0702.hdf5\n",
            "\n",
            "Epoch 00162: val_loss did not improve from 0.07023\n",
            "\n",
            "Epoch 00163: val_loss did not improve from 0.07023\n",
            "\n",
            "Epoch 00164: val_loss did not improve from 0.07023\n",
            "\n",
            "Epoch 00165: val_loss did not improve from 0.07023\n",
            "\n",
            "Epoch 00166: val_loss did not improve from 0.07023\n",
            "\n",
            "Epoch 00167: val_loss improved from 0.07023 to 0.06824, saving model to ./model/167-0.0682.hdf5\n",
            "\n",
            "Epoch 00168: val_loss did not improve from 0.06824\n",
            "\n",
            "Epoch 00169: val_loss did not improve from 0.06824\n",
            "\n",
            "Epoch 00170: val_loss did not improve from 0.06824\n",
            "\n",
            "Epoch 00171: val_loss did not improve from 0.06824\n",
            "\n",
            "Epoch 00172: val_loss did not improve from 0.06824\n",
            "\n",
            "Epoch 00173: val_loss did not improve from 0.06824\n",
            "\n",
            "Epoch 00174: val_loss did not improve from 0.06824\n",
            "\n",
            "Epoch 00175: val_loss did not improve from 0.06824\n",
            "\n",
            "Epoch 00176: val_loss did not improve from 0.06824\n",
            "\n",
            "Epoch 00177: val_loss did not improve from 0.06824\n",
            "\n",
            "Epoch 00178: val_loss did not improve from 0.06824\n",
            "\n",
            "Epoch 00179: val_loss did not improve from 0.06824\n",
            "\n",
            "Epoch 00180: val_loss did not improve from 0.06824\n",
            "\n",
            "Epoch 00181: val_loss did not improve from 0.06824\n",
            "\n",
            "Epoch 00182: val_loss did not improve from 0.06824\n",
            "\n",
            "Epoch 00183: val_loss did not improve from 0.06824\n",
            "\n",
            "Epoch 00184: val_loss did not improve from 0.06824\n",
            "\n",
            "Epoch 00185: val_loss did not improve from 0.06824\n",
            "\n",
            "Epoch 00186: val_loss improved from 0.06824 to 0.06713, saving model to ./model/186-0.0671.hdf5\n",
            "\n",
            "Epoch 00187: val_loss did not improve from 0.06713\n",
            "\n",
            "Epoch 00188: val_loss did not improve from 0.06713\n",
            "\n",
            "Epoch 00189: val_loss did not improve from 0.06713\n",
            "\n",
            "Epoch 00190: val_loss improved from 0.06713 to 0.06483, saving model to ./model/190-0.0648.hdf5\n",
            "\n",
            "Epoch 00191: val_loss did not improve from 0.06483\n",
            "\n",
            "Epoch 00192: val_loss did not improve from 0.06483\n",
            "\n",
            "Epoch 00193: val_loss did not improve from 0.06483\n",
            "\n",
            "Epoch 00194: val_loss did not improve from 0.06483\n",
            "\n",
            "Epoch 00195: val_loss did not improve from 0.06483\n",
            "\n",
            "Epoch 00196: val_loss did not improve from 0.06483\n",
            "\n",
            "Epoch 00197: val_loss did not improve from 0.06483\n",
            "\n",
            "Epoch 00198: val_loss did not improve from 0.06483\n",
            "\n",
            "Epoch 00199: val_loss did not improve from 0.06483\n",
            "\n",
            "Epoch 00200: val_loss did not improve from 0.06483\n",
            "\n",
            "Epoch 00201: val_loss did not improve from 0.06483\n",
            "\n",
            "Epoch 00202: val_loss did not improve from 0.06483\n",
            "\n",
            "Epoch 00203: val_loss did not improve from 0.06483\n",
            "\n",
            "Epoch 00204: val_loss did not improve from 0.06483\n",
            "\n",
            "Epoch 00205: val_loss improved from 0.06483 to 0.06373, saving model to ./model/205-0.0637.hdf5\n",
            "\n",
            "Epoch 00206: val_loss improved from 0.06373 to 0.06357, saving model to ./model/206-0.0636.hdf5\n",
            "\n",
            "Epoch 00207: val_loss did not improve from 0.06357\n",
            "\n",
            "Epoch 00208: val_loss did not improve from 0.06357\n",
            "\n",
            "Epoch 00209: val_loss did not improve from 0.06357\n",
            "\n",
            "Epoch 00210: val_loss did not improve from 0.06357\n",
            "\n",
            "Epoch 00211: val_loss did not improve from 0.06357\n",
            "\n",
            "Epoch 00212: val_loss did not improve from 0.06357\n",
            "\n",
            "Epoch 00213: val_loss did not improve from 0.06357\n",
            "\n",
            "Epoch 00214: val_loss did not improve from 0.06357\n",
            "\n",
            "Epoch 00215: val_loss did not improve from 0.06357\n",
            "\n",
            "Epoch 00216: val_loss did not improve from 0.06357\n",
            "\n",
            "Epoch 00217: val_loss did not improve from 0.06357\n",
            "\n",
            "Epoch 00218: val_loss improved from 0.06357 to 0.06156, saving model to ./model/218-0.0616.hdf5\n",
            "\n",
            "Epoch 00219: val_loss improved from 0.06156 to 0.05947, saving model to ./model/219-0.0595.hdf5\n",
            "\n",
            "Epoch 00220: val_loss did not improve from 0.05947\n",
            "\n",
            "Epoch 00221: val_loss did not improve from 0.05947\n",
            "\n",
            "Epoch 00222: val_loss did not improve from 0.05947\n",
            "\n",
            "Epoch 00223: val_loss did not improve from 0.05947\n",
            "\n",
            "Epoch 00224: val_loss did not improve from 0.05947\n",
            "\n",
            "Epoch 00225: val_loss did not improve from 0.05947\n",
            "\n",
            "Epoch 00226: val_loss did not improve from 0.05947\n",
            "\n",
            "Epoch 00227: val_loss did not improve from 0.05947\n",
            "\n",
            "Epoch 00228: val_loss did not improve from 0.05947\n",
            "\n",
            "Epoch 00229: val_loss did not improve from 0.05947\n",
            "\n",
            "Epoch 00230: val_loss did not improve from 0.05947\n",
            "\n",
            "Epoch 00231: val_loss did not improve from 0.05947\n",
            "\n",
            "Epoch 00232: val_loss did not improve from 0.05947\n",
            "\n",
            "Epoch 00233: val_loss did not improve from 0.05947\n",
            "\n",
            "Epoch 00234: val_loss did not improve from 0.05947\n",
            "\n",
            "Epoch 00235: val_loss did not improve from 0.05947\n",
            "\n",
            "Epoch 00236: val_loss did not improve from 0.05947\n",
            "\n",
            "Epoch 00237: val_loss improved from 0.05947 to 0.05841, saving model to ./model/237-0.0584.hdf5\n",
            "\n",
            "Epoch 00238: val_loss did not improve from 0.05841\n",
            "\n",
            "Epoch 00239: val_loss did not improve from 0.05841\n",
            "\n",
            "Epoch 00240: val_loss did not improve from 0.05841\n",
            "\n",
            "Epoch 00241: val_loss did not improve from 0.05841\n",
            "\n",
            "Epoch 00242: val_loss did not improve from 0.05841\n",
            "\n",
            "Epoch 00243: val_loss did not improve from 0.05841\n",
            "\n",
            "Epoch 00244: val_loss did not improve from 0.05841\n",
            "\n",
            "Epoch 00245: val_loss did not improve from 0.05841\n",
            "\n",
            "Epoch 00246: val_loss did not improve from 0.05841\n",
            "\n",
            "Epoch 00247: val_loss improved from 0.05841 to 0.05608, saving model to ./model/247-0.0561.hdf5\n",
            "\n",
            "Epoch 00248: val_loss did not improve from 0.05608\n",
            "\n",
            "Epoch 00249: val_loss did not improve from 0.05608\n",
            "\n",
            "Epoch 00250: val_loss did not improve from 0.05608\n",
            "\n",
            "Epoch 00251: val_loss did not improve from 0.05608\n",
            "\n",
            "Epoch 00252: val_loss did not improve from 0.05608\n",
            "\n",
            "Epoch 00253: val_loss did not improve from 0.05608\n",
            "\n",
            "Epoch 00254: val_loss did not improve from 0.05608\n",
            "\n",
            "Epoch 00255: val_loss did not improve from 0.05608\n",
            "\n",
            "Epoch 00256: val_loss did not improve from 0.05608\n",
            "\n",
            "Epoch 00257: val_loss did not improve from 0.05608\n",
            "\n",
            "Epoch 00258: val_loss did not improve from 0.05608\n",
            "\n",
            "Epoch 00259: val_loss did not improve from 0.05608\n",
            "\n",
            "Epoch 00260: val_loss did not improve from 0.05608\n",
            "\n",
            "Epoch 00261: val_loss did not improve from 0.05608\n",
            "\n",
            "Epoch 00262: val_loss did not improve from 0.05608\n",
            "\n",
            "Epoch 00263: val_loss did not improve from 0.05608\n",
            "\n",
            "Epoch 00264: val_loss did not improve from 0.05608\n",
            "\n",
            "Epoch 00265: val_loss did not improve from 0.05608\n",
            "\n",
            "Epoch 00266: val_loss did not improve from 0.05608\n",
            "\n",
            "Epoch 00267: val_loss did not improve from 0.05608\n",
            "\n",
            "Epoch 00268: val_loss did not improve from 0.05608\n",
            "\n",
            "Epoch 00269: val_loss did not improve from 0.05608\n",
            "\n",
            "Epoch 00270: val_loss did not improve from 0.05608\n",
            "\n",
            "Epoch 00271: val_loss did not improve from 0.05608\n",
            "\n",
            "Epoch 00272: val_loss improved from 0.05608 to 0.05555, saving model to ./model/272-0.0556.hdf5\n",
            "\n",
            "Epoch 00273: val_loss did not improve from 0.05555\n",
            "\n",
            "Epoch 00274: val_loss did not improve from 0.05555\n",
            "\n",
            "Epoch 00275: val_loss did not improve from 0.05555\n",
            "\n",
            "Epoch 00276: val_loss did not improve from 0.05555\n",
            "\n",
            "Epoch 00277: val_loss did not improve from 0.05555\n",
            "\n",
            "Epoch 00278: val_loss did not improve from 0.05555\n",
            "\n",
            "Epoch 00279: val_loss did not improve from 0.05555\n",
            "\n",
            "Epoch 00280: val_loss did not improve from 0.05555\n",
            "\n",
            "Epoch 00281: val_loss did not improve from 0.05555\n",
            "\n",
            "Epoch 00282: val_loss did not improve from 0.05555\n",
            "\n",
            "Epoch 00283: val_loss did not improve from 0.05555\n",
            "\n",
            "Epoch 00284: val_loss did not improve from 0.05555\n",
            "\n",
            "Epoch 00285: val_loss did not improve from 0.05555\n",
            "\n",
            "Epoch 00286: val_loss improved from 0.05555 to 0.05521, saving model to ./model/286-0.0552.hdf5\n",
            "\n",
            "Epoch 00287: val_loss did not improve from 0.05521\n",
            "\n",
            "Epoch 00288: val_loss did not improve from 0.05521\n",
            "\n",
            "Epoch 00289: val_loss did not improve from 0.05521\n",
            "\n",
            "Epoch 00290: val_loss did not improve from 0.05521\n",
            "\n",
            "Epoch 00291: val_loss did not improve from 0.05521\n",
            "\n",
            "Epoch 00292: val_loss did not improve from 0.05521\n",
            "\n",
            "Epoch 00293: val_loss did not improve from 0.05521\n",
            "\n",
            "Epoch 00294: val_loss did not improve from 0.05521\n",
            "\n",
            "Epoch 00295: val_loss did not improve from 0.05521\n",
            "\n",
            "Epoch 00296: val_loss improved from 0.05521 to 0.05153, saving model to ./model/296-0.0515.hdf5\n",
            "\n",
            "Epoch 00297: val_loss did not improve from 0.05153\n",
            "\n",
            "Epoch 00298: val_loss did not improve from 0.05153\n",
            "\n",
            "Epoch 00299: val_loss did not improve from 0.05153\n",
            "\n",
            "Epoch 00300: val_loss did not improve from 0.05153\n",
            "\n",
            "Epoch 00301: val_loss did not improve from 0.05153\n",
            "\n",
            "Epoch 00302: val_loss did not improve from 0.05153\n",
            "\n",
            "Epoch 00303: val_loss did not improve from 0.05153\n",
            "\n",
            "Epoch 00304: val_loss did not improve from 0.05153\n",
            "\n",
            "Epoch 00305: val_loss did not improve from 0.05153\n",
            "\n",
            "Epoch 00306: val_loss did not improve from 0.05153\n",
            "\n",
            "Epoch 00307: val_loss did not improve from 0.05153\n",
            "\n",
            "Epoch 00308: val_loss did not improve from 0.05153\n",
            "\n",
            "Epoch 00309: val_loss did not improve from 0.05153\n",
            "\n",
            "Epoch 00310: val_loss did not improve from 0.05153\n",
            "\n",
            "Epoch 00311: val_loss did not improve from 0.05153\n",
            "\n",
            "Epoch 00312: val_loss did not improve from 0.05153\n",
            "\n",
            "Epoch 00313: val_loss did not improve from 0.05153\n",
            "\n",
            "Epoch 00314: val_loss did not improve from 0.05153\n",
            "\n",
            "Epoch 00315: val_loss did not improve from 0.05153\n",
            "\n",
            "Epoch 00316: val_loss did not improve from 0.05153\n",
            "\n",
            "Epoch 00317: val_loss did not improve from 0.05153\n",
            "\n",
            "Epoch 00318: val_loss did not improve from 0.05153\n",
            "\n",
            "Epoch 00319: val_loss did not improve from 0.05153\n",
            "\n",
            "Epoch 00320: val_loss did not improve from 0.05153\n",
            "\n",
            "Epoch 00321: val_loss did not improve from 0.05153\n",
            "\n",
            "Epoch 00322: val_loss did not improve from 0.05153\n",
            "\n",
            "Epoch 00323: val_loss did not improve from 0.05153\n",
            "\n",
            "Epoch 00324: val_loss did not improve from 0.05153\n",
            "\n",
            "Epoch 00325: val_loss did not improve from 0.05153\n",
            "\n",
            "Epoch 00326: val_loss did not improve from 0.05153\n",
            "\n",
            "Epoch 00327: val_loss did not improve from 0.05153\n",
            "\n",
            "Epoch 00328: val_loss did not improve from 0.05153\n",
            "\n",
            "Epoch 00329: val_loss did not improve from 0.05153\n",
            "\n",
            "Epoch 00330: val_loss did not improve from 0.05153\n",
            "\n",
            "Epoch 00331: val_loss did not improve from 0.05153\n",
            "\n",
            "Epoch 00332: val_loss did not improve from 0.05153\n",
            "\n",
            "Epoch 00333: val_loss did not improve from 0.05153\n",
            "\n",
            "Epoch 00334: val_loss did not improve from 0.05153\n",
            "\n",
            "Epoch 00335: val_loss did not improve from 0.05153\n",
            "\n",
            "Epoch 00336: val_loss did not improve from 0.05153\n",
            "\n",
            "Epoch 00337: val_loss did not improve from 0.05153\n",
            "\n",
            "Epoch 00338: val_loss did not improve from 0.05153\n",
            "\n",
            "Epoch 00339: val_loss did not improve from 0.05153\n",
            "\n",
            "Epoch 00340: val_loss did not improve from 0.05153\n",
            "\n",
            "Epoch 00341: val_loss did not improve from 0.05153\n",
            "\n",
            "Epoch 00342: val_loss did not improve from 0.05153\n",
            "\n",
            "Epoch 00343: val_loss did not improve from 0.05153\n",
            "\n",
            "Epoch 00344: val_loss did not improve from 0.05153\n",
            "\n",
            "Epoch 00345: val_loss did not improve from 0.05153\n",
            "\n",
            "Epoch 00346: val_loss did not improve from 0.05153\n",
            "\n",
            "Epoch 00347: val_loss did not improve from 0.05153\n",
            "\n",
            "Epoch 00348: val_loss did not improve from 0.05153\n",
            "\n",
            "Epoch 00349: val_loss did not improve from 0.05153\n",
            "\n",
            "Epoch 00350: val_loss did not improve from 0.05153\n",
            "\n",
            "Epoch 00351: val_loss did not improve from 0.05153\n",
            "\n",
            "Epoch 00352: val_loss did not improve from 0.05153\n",
            "\n",
            "Epoch 00353: val_loss did not improve from 0.05153\n",
            "\n",
            "Epoch 00354: val_loss did not improve from 0.05153\n",
            "\n",
            "Epoch 00355: val_loss did not improve from 0.05153\n",
            "\n",
            "Epoch 00356: val_loss did not improve from 0.05153\n",
            "\n",
            "Epoch 00357: val_loss did not improve from 0.05153\n",
            "\n",
            "Epoch 00358: val_loss did not improve from 0.05153\n",
            "\n",
            "Epoch 00359: val_loss did not improve from 0.05153\n",
            "\n",
            "Epoch 00360: val_loss did not improve from 0.05153\n",
            "\n",
            "Epoch 00361: val_loss did not improve from 0.05153\n",
            "\n",
            "Epoch 00362: val_loss did not improve from 0.05153\n",
            "\n",
            "Epoch 00363: val_loss did not improve from 0.05153\n",
            "\n",
            "Epoch 00364: val_loss did not improve from 0.05153\n",
            "\n",
            "Epoch 00365: val_loss did not improve from 0.05153\n",
            "\n",
            "Epoch 00366: val_loss did not improve from 0.05153\n",
            "\n",
            "Epoch 00367: val_loss did not improve from 0.05153\n",
            "\n",
            "Epoch 00368: val_loss did not improve from 0.05153\n",
            "\n",
            "Epoch 00369: val_loss did not improve from 0.05153\n",
            "\n",
            "Epoch 00370: val_loss did not improve from 0.05153\n",
            "\n",
            "Epoch 00371: val_loss did not improve from 0.05153\n",
            "\n",
            "Epoch 00372: val_loss did not improve from 0.05153\n",
            "\n",
            "Epoch 00373: val_loss did not improve from 0.05153\n",
            "\n",
            "Epoch 00374: val_loss did not improve from 0.05153\n",
            "\n",
            "Epoch 00375: val_loss did not improve from 0.05153\n",
            "\n",
            "Epoch 00376: val_loss did not improve from 0.05153\n",
            "\n",
            "Epoch 00377: val_loss did not improve from 0.05153\n",
            "\n",
            "Epoch 00378: val_loss did not improve from 0.05153\n",
            "\n",
            "Epoch 00379: val_loss did not improve from 0.05153\n",
            "\n",
            "Epoch 00380: val_loss did not improve from 0.05153\n",
            "\n",
            "Epoch 00381: val_loss did not improve from 0.05153\n",
            "\n",
            "Epoch 00382: val_loss did not improve from 0.05153\n",
            "\n",
            "Epoch 00383: val_loss did not improve from 0.05153\n",
            "\n",
            "Epoch 00384: val_loss did not improve from 0.05153\n",
            "\n",
            "Epoch 00385: val_loss did not improve from 0.05153\n",
            "\n",
            "Epoch 00386: val_loss did not improve from 0.05153\n",
            "\n",
            "Epoch 00387: val_loss did not improve from 0.05153\n",
            "\n",
            "Epoch 00388: val_loss did not improve from 0.05153\n",
            "\n",
            "Epoch 00389: val_loss did not improve from 0.05153\n",
            "\n",
            "Epoch 00390: val_loss did not improve from 0.05153\n",
            "\n",
            "Epoch 00391: val_loss did not improve from 0.05153\n",
            "\n",
            "Epoch 00392: val_loss did not improve from 0.05153\n",
            "\n",
            "Epoch 00393: val_loss did not improve from 0.05153\n",
            "\n",
            "Epoch 00394: val_loss did not improve from 0.05153\n",
            "\n",
            "Epoch 00395: val_loss did not improve from 0.05153\n",
            "\n",
            "Epoch 00396: val_loss did not improve from 0.05153\n"
          ]
        },
        {
          "output_type": "display_data",
          "data": {
            "image/png": "[encoded data removed]",
            "text/plain": [
              "<Figure size 432x288 with 1 Axes>"
            ]
          },
          "metadata": {
            "needs_background": "light"
          }
        },
        {
          "output_type": "display_data",
          "data": {
            "image/png": "[encoded data removed]",
            "text/plain": [
              "<Figure size 432x288 with 1 Axes>"
            ]
          },
          "metadata": {
            "needs_background": "light"
          }
        }
      ]
    },
    {
      "cell_type": "code",
      "metadata": {
        "id": "vZkNuqKw_CzP",
        "colab": {
          "base_uri": "https://localhost:8080/"
        },
        "outputId": "b43d7000-3d3b-4592-df6e-ac3d42a7d6d6"
      },
      "source": [
        "history.history.keys()"
      ],
      "execution_count": 39,
      "outputs": [
        {
          "output_type": "execute_result",
          "data": {
            "text/plain": [
              "dict_keys(['loss', 'accuracy', 'val_loss', 'val_accuracy'])"
            ]
          },
          "metadata": {},
          "execution_count": 39
        }
      ]
    },
    {
      "cell_type": "code",
      "metadata": {
        "scrolled": false,
        "id": "39jtzRIR7uzy",
        "colab": {
          "base_uri": "https://localhost:8080/"
        },
        "outputId": "26026a3e-6c7f-47bf-cc91-9998ee9673a0"
      },
      "source": [
        "print(\"Acuracy: %.4f\" %(model.evaluate(X, y)[1]))"
      ],
      "execution_count": 40,
      "outputs": [
        {
          "output_type": "stream",
          "name": "stdout",
          "text": [
            "41/41 [==============================] - 0s 3ms/step - loss: 0.0421 - accuracy: 0.9823\n",
            "Acuracy: 0.9823\n"
          ]
        }
      ]
    },
    {
      "cell_type": "markdown",
      "metadata": {
        "id": "meV-aZzQ7uz3"
      },
      "source": [
        "- 2000 epoch 전에 중간에 중단됨을 알 수 있다."
      ]
    },
    {
      "cell_type": "markdown",
      "metadata": {
        "id": "jQg_oBsA7uz4"
      },
      "source": [
        "# Regression - boston house price\n",
        "- boston area house price estimates"
      ]
    },
    {
      "cell_type": "code",
      "metadata": {
        "id": "ozRinvZ2pPph"
      },
      "source": [
        "from tensorflow.keras.models import Sequential\n",
        "from tensorflow.keras.layers import Dense\n",
        "from sklearn.model_selection import train_test_split\n",
        "\n",
        "import numpy\n",
        "import pandas as pd\n",
        "import tensorflow as tf"
      ],
      "execution_count": 41,
      "outputs": []
    },
    {
      "cell_type": "code",
      "metadata": {
        "id": "o_67wjOgoC4C",
        "colab": {
          "base_uri": "https://localhost:8080/"
        },
        "outputId": "782e000f-1871-48d3-847e-cdcfe8f4bfb4"
      },
      "source": [
        "from sklearn.datasets import load_boston\n",
        "house = load_boston()\n",
        "X, y = house.data, house.target"
      ],
      "execution_count": 42,
      "outputs": [
        {
          "output_type": "stream",
          "name": "stderr",
          "text": [
            "/usr/local/lib/python3.7/dist-packages/sklearn/utils/deprecation.py:87: FutureWarning: Function load_boston is deprecated; `load_boston` is deprecated in 1.0 and will be removed in 1.2.\n",
            "\n",
            "    The Boston housing prices dataset has an ethical problem. You can refer to\n",
            "    the documentation of this function for further details.\n",
            "\n",
            "    The scikit-learn maintainers therefore strongly discourage the use of this\n",
            "    dataset unless the purpose of the code is to study and educate about\n",
            "    ethical issues in data science and machine learning.\n",
            "\n",
            "    In this special case, you can fetch the dataset from the original\n",
            "    source::\n",
            "\n",
            "        import pandas as pd\n",
            "        import numpy as np\n",
            "\n",
            "\n",
            "        data_url = \"http://lib.stat.cmu.edu/datasets/boston\"\n",
            "        raw_df = pd.read_csv(data_url, sep=\"\\s+\", skiprows=22, header=None)\n",
            "        data = np.hstack([raw_df.values[::2, :], raw_df.values[1::2, :2]])\n",
            "        target = raw_df.values[1::2, 2]\n",
            "\n",
            "    Alternative datasets include the California housing dataset (i.e.\n",
            "    :func:`~sklearn.datasets.fetch_california_housing`) and the Ames housing\n",
            "    dataset. You can load the datasets as follows::\n",
            "\n",
            "        from sklearn.datasets import fetch_california_housing\n",
            "        housing = fetch_california_housing()\n",
            "\n",
            "    for the California housing dataset and::\n",
            "\n",
            "        from sklearn.datasets import fetch_openml\n",
            "        housing = fetch_openml(name=\"house_prices\", as_frame=True)\n",
            "\n",
            "    for the Ames housing dataset.\n",
            "    \n",
            "  warnings.warn(msg, category=FutureWarning)\n"
          ]
        }
      ]
    },
    {
      "cell_type": "code",
      "metadata": {
        "colab": {
          "base_uri": "https://localhost:8080/"
        },
        "id": "ciggdTTGoyul",
        "outputId": "95edbc2b-2941-41fa-d4cc-75cba858b72b"
      },
      "source": [
        "X.shape, y.shape"
      ],
      "execution_count": 43,
      "outputs": [
        {
          "output_type": "execute_result",
          "data": {
            "text/plain": [
              "((506, 13), (506,))"
            ]
          },
          "metadata": {},
          "execution_count": 43
        }
      ]
    },
    {
      "cell_type": "code",
      "metadata": {
        "colab": {
          "base_uri": "https://localhost:8080/"
        },
        "id": "mB7hdCYyxpRO",
        "outputId": "80404de5-fea9-4189-f134-7f28c4d739ae"
      },
      "source": [
        "[i for i in dir(house) if not i.startswith(\"_\")]"
      ],
      "execution_count": 44,
      "outputs": [
        {
          "output_type": "execute_result",
          "data": {
            "text/plain": [
              "['DESCR', 'data', 'data_module', 'feature_names', 'filename', 'target']"
            ]
          },
          "metadata": {},
          "execution_count": 44
        }
      ]
    },
    {
      "cell_type": "code",
      "metadata": {
        "colab": {
          "base_uri": "https://localhost:8080/"
        },
        "id": "bo_5ze2Kx962",
        "outputId": "f61f1e60-403b-4d2b-f49e-4735a2d88374"
      },
      "source": [
        "house.feature_names"
      ],
      "execution_count": 45,
      "outputs": [
        {
          "output_type": "execute_result",
          "data": {
            "text/plain": [
              "array(['CRIM', 'ZN', 'INDUS', 'CHAS', 'NOX', 'RM', 'AGE', 'DIS', 'RAD',\n",
              "       'TAX', 'PTRATIO', 'B', 'LSTAT'], dtype='<U7')"
            ]
          },
          "metadata": {},
          "execution_count": 45
        }
      ]
    },
    {
      "cell_type": "code",
      "metadata": {
        "colab": {
          "base_uri": "https://localhost:8080/"
        },
        "id": "MlUhW0Npo-4q",
        "outputId": "0721a83a-bcad-4c85-b379-5ab157489f58"
      },
      "source": [
        "X[:5], y[:5]"
      ],
      "execution_count": 46,
      "outputs": [
        {
          "output_type": "execute_result",
          "data": {
            "text/plain": [
              "(array([[6.3200e-03, 1.8000e+01, 2.3100e+00, 0.0000e+00, 5.3800e-01,\n",
              "         6.5750e+00, 6.5200e+01, 4.0900e+00, 1.0000e+00, 2.9600e+02,\n",
              "         1.5300e+01, 3.9690e+02, 4.9800e+00],\n",
              "        [2.7310e-02, 0.0000e+00, 7.0700e+00, 0.0000e+00, 4.6900e-01,\n",
              "         6.4210e+00, 7.8900e+01, 4.9671e+00, 2.0000e+00, 2.4200e+02,\n",
              "         1.7800e+01, 3.9690e+02, 9.1400e+00],\n",
              "        [2.7290e-02, 0.0000e+00, 7.0700e+00, 0.0000e+00, 4.6900e-01,\n",
              "         7.1850e+00, 6.1100e+01, 4.9671e+00, 2.0000e+00, 2.4200e+02,\n",
              "         1.7800e+01, 3.9283e+02, 4.0300e+00],\n",
              "        [3.2370e-02, 0.0000e+00, 2.1800e+00, 0.0000e+00, 4.5800e-01,\n",
              "         6.9980e+00, 4.5800e+01, 6.0622e+00, 3.0000e+00, 2.2200e+02,\n",
              "         1.8700e+01, 3.9463e+02, 2.9400e+00],\n",
              "        [6.9050e-02, 0.0000e+00, 2.1800e+00, 0.0000e+00, 4.5800e-01,\n",
              "         7.1470e+00, 5.4200e+01, 6.0622e+00, 3.0000e+00, 2.2200e+02,\n",
              "         1.8700e+01, 3.9690e+02, 5.3300e+00]]),\n",
              " array([24. , 21.6, 34.7, 33.4, 36.2]))"
            ]
          },
          "metadata": {},
          "execution_count": 46
        }
      ]
    },
    {
      "cell_type": "code",
      "metadata": {
        "id": "EyHOMui4zVjQ"
      },
      "source": [
        "from sklearn.preprocessing import StandardScaler\n",
        "sc = StandardScaler()\n",
        "sc.fit(X)\n",
        "X = sc.transform(X)"
      ],
      "execution_count": 47,
      "outputs": []
    },
    {
      "cell_type": "code",
      "metadata": {
        "id": "WzE3FKCa7u0F",
        "colab": {
          "base_uri": "https://localhost:8080/"
        },
        "outputId": "bc92440a-ff36-49af-e5f4-d17f0c3d4896"
      },
      "source": [
        "X_train, X_test, y_train, y_test = train_test_split(X, y, test_size=0.3)\n",
        "\n",
        "model = Sequential()\n",
        "model.add(Dense(30, input_dim=13, activation='relu'))\n",
        "model.add(Dense(6, activation='relu'))\n",
        "model.add(Dense(1, activation='linear'))    # no need of activation function\n",
        "model.summary()\n",
        "model.compile(loss='mse',\n",
        "              optimizer='adam')\n",
        "\n",
        "history = model.fit(X_train, y_train, epochs=200, batch_size=10, verbose=0)"
      ],
      "execution_count": 48,
      "outputs": [
        {
          "output_type": "stream",
          "name": "stdout",
          "text": [
            "Model: \"sequential_13\"\n",
            "_________________________________________________________________\n",
            " Layer (type)                Output Shape              Param #   \n",
            "=================================================================\n",
            " dense_28 (Dense)            (None, 30)                420       \n",
            "                                                                 \n",
            " dense_29 (Dense)            (None, 6)                 186       \n",
            "                                                                 \n",
            " dense_30 (Dense)            (None, 1)                 7         \n",
            "                                                                 \n",
            "=================================================================\n",
            "Total params: 613\n",
            "Trainable params: 613\n",
            "Non-trainable params: 0\n",
            "_________________________________________________________________\n"
          ]
        }
      ]
    },
    {
      "cell_type": "code",
      "metadata": {
        "colab": {
          "base_uri": "https://localhost:8080/"
        },
        "id": "X_WO9pdnX_sE",
        "outputId": "ee710608-9fda-4341-8c25-d34e66c9d28c"
      },
      "source": [
        "history.history.keys()"
      ],
      "execution_count": 49,
      "outputs": [
        {
          "output_type": "execute_result",
          "data": {
            "text/plain": [
              "dict_keys(['loss'])"
            ]
          },
          "metadata": {},
          "execution_count": 49
        }
      ]
    },
    {
      "cell_type": "code",
      "metadata": {
        "colab": {
          "base_uri": "https://localhost:8080/"
        },
        "id": "8gU3o-1wXV8e",
        "outputId": "3fa187e3-548b-4d99-c63c-212483c6e273"
      },
      "source": [
        "model.predict(X_test)[:5], model.predict(X_test)[:5].flatten()"
      ],
      "execution_count": 50,
      "outputs": [
        {
          "output_type": "execute_result",
          "data": {
            "text/plain": [
              "(array([[18.645428],\n",
              "        [30.84918 ],\n",
              "        [21.323627],\n",
              "        [ 9.584489],\n",
              "        [21.260283]], dtype=float32),\n",
              " array([18.645428, 30.84918 , 21.323627,  9.584489, 21.260283],\n",
              "       dtype=float32))"
            ]
          },
          "metadata": {},
          "execution_count": 50
        }
      ]
    },
    {
      "cell_type": "code",
      "metadata": {
        "id": "XDOd_6B47u0L",
        "colab": {
          "base_uri": "https://localhost:8080/"
        },
        "outputId": "b2502fee-022b-4f9f-b6aa-367d08cbf4fc"
      },
      "source": [
        "# just for checking\n",
        "model.predict(X_test)[:5][:,0] == model.predict(X_test)[:5].flatten()"
      ],
      "execution_count": 51,
      "outputs": [
        {
          "output_type": "execute_result",
          "data": {
            "text/plain": [
              "array([ True,  True,  True,  True,  True])"
            ]
          },
          "metadata": {},
          "execution_count": 51
        }
      ]
    },
    {
      "cell_type": "code",
      "metadata": {
        "id": "3cUW5F8m7u0S",
        "colab": {
          "base_uri": "https://localhost:8080/"
        },
        "outputId": "8200c800-219d-42af-8363-afc2719789b4"
      },
      "source": [
        "# 예측 값과 실제 값의 비교\n",
        "y_pred = model.predict(X_test).flatten()\n",
        "for i in range(10):\n",
        "    label = y_test[i]\n",
        "    prediction = y_pred[i]\n",
        "    print(\"real price: {:.3f}, predicted price: {:.3f}\".format(label, prediction))"
      ],
      "execution_count": 52,
      "outputs": [
        {
          "output_type": "stream",
          "name": "stdout",
          "text": [
            "real price: 21.000, predicted price: 18.645\n",
            "real price: 50.000, predicted price: 30.849\n",
            "real price: 24.300, predicted price: 21.324\n",
            "real price: 10.400, predicted price: 9.584\n",
            "real price: 24.400, predicted price: 21.260\n",
            "real price: 25.000, predicted price: 33.794\n",
            "real price: 22.500, predicted price: 24.902\n",
            "real price: 34.700, predicted price: 31.782\n",
            "real price: 14.000, predicted price: 14.256\n",
            "real price: 20.300, predicted price: 19.938\n"
          ]
        }
      ]
    },
    {
      "cell_type": "code",
      "metadata": {
        "colab": {
          "base_uri": "https://localhost:8080/"
        },
        "id": "5YQIO_jZFJGP",
        "outputId": "7825eeff-6525-4dc9-cdce-0298ec6c32bf"
      },
      "source": [
        "model.evaluate(X_test, y_test)"
      ],
      "execution_count": 53,
      "outputs": [
        {
          "output_type": "stream",
          "name": "stdout",
          "text": [
            "5/5 [==============================] - 0s 4ms/step - loss: 16.4762\n"
          ]
        },
        {
          "output_type": "execute_result",
          "data": {
            "text/plain": [
              "16.47616958618164"
            ]
          },
          "metadata": {},
          "execution_count": 53
        }
      ]
    },
    {
      "cell_type": "code",
      "metadata": {
        "colab": {
          "base_uri": "https://localhost:8080/"
        },
        "id": "FsvkzphdGeIB",
        "outputId": "5107c003-9315-4272-e632-f9b3b8ed91fe"
      },
      "source": [
        "from sklearn.metrics import r2_score\n",
        "print(r2_score(y_test, model.predict(X_test)))\n",
        "print(tf.metrics.mean_squared_error(y_test, model.predict(X_test))[0])"
      ],
      "execution_count": 54,
      "outputs": [
        {
          "output_type": "stream",
          "name": "stdout",
          "text": [
            "0.8219065185825465\n",
            "tf.Tensor(112.87058, shape=(), dtype=float32)\n"
          ]
        }
      ]
    },
    {
      "cell_type": "code",
      "metadata": {
        "colab": {
          "base_uri": "https://localhost:8080/"
        },
        "id": "aKeTDfceatM3",
        "outputId": "7775487d-a07a-4185-d575-a43201d93d1e"
      },
      "source": [
        "y_test.shape, model.predict(X_test).shape"
      ],
      "execution_count": 55,
      "outputs": [
        {
          "output_type": "execute_result",
          "data": {
            "text/plain": [
              "((152,), (152, 1))"
            ]
          },
          "metadata": {},
          "execution_count": 55
        }
      ]
    },
    {
      "cell_type": "markdown",
      "metadata": {
        "id": "4xpM5TEGZSy_"
      },
      "source": [
        "# Exercise (연습)\n",
        "- tf.function: \n",
        "  - 내부에서 tf 1.x 처럼 graph 와 execution 이 분리되어 실행됨.\n",
        "  - 그래프에 작은 연산이 많을 때 eager execution 모드 보다 빠르다고 알려져 있지만 (합성곱처럼) 계산량이 많은 연산 몇 개로 이루어진 그래프는 속도 향상이 없어 보임.\n",
        "  - 디버깅이 어려워 모든 함수 동작이 확인된 후 붙이는 게 좋음."
      ]
    },
    {
      "cell_type": "code",
      "metadata": {
        "id": "povINYYN7u0Y",
        "colab": {
          "base_uri": "https://localhost:8080/"
        },
        "outputId": "b8077e4d-f415-4ecb-b731-9bb8cb93c3ea"
      },
      "source": [
        "# tf.function: Compiles a function into a callable TensorFlow graph.\n",
        "#               (must be faster), but not always...?\n",
        "import timeit\n",
        "@tf.function\n",
        "def dense_layer1(x, w, b):\n",
        "    return tf.add(tf.matmul(x, w), b)\n",
        "\n",
        "%time dense_layer1(tf.ones([3, 2]), tf.ones([2, 2]), tf.ones([2]))"
      ],
      "execution_count": 56,
      "outputs": [
        {
          "output_type": "stream",
          "name": "stdout",
          "text": [
            "CPU times: user 57.9 ms, sys: 2.86 ms, total: 60.8 ms\n",
            "Wall time: 60.6 ms\n"
          ]
        },
        {
          "output_type": "execute_result",
          "data": {
            "text/plain": [
              "<tf.Tensor: shape=(3, 2), dtype=float32, numpy=\n",
              "array([[3., 3.],\n",
              "       [3., 3.],\n",
              "       [3., 3.]], dtype=float32)>"
            ]
          },
          "metadata": {},
          "execution_count": 56
        }
      ]
    },
    {
      "cell_type": "code",
      "metadata": {
        "colab": {
          "base_uri": "https://localhost:8080/"
        },
        "id": "_wTG0uPKbwAI",
        "outputId": "e77482ab-7305-4dbe-81ce-b74740de0944"
      },
      "source": [
        "def dense_layer2(x, w, b):\n",
        "    return tf.add(tf.matmul(x, w), b)\n",
        "    \n",
        "%time dense_layer2(tf.ones([3, 2]), tf.ones([2, 2]), tf.ones([2]))"
      ],
      "execution_count": 57,
      "outputs": [
        {
          "output_type": "stream",
          "name": "stdout",
          "text": [
            "CPU times: user 2.62 ms, sys: 0 ns, total: 2.62 ms\n",
            "Wall time: 2.38 ms\n"
          ]
        },
        {
          "output_type": "execute_result",
          "data": {
            "text/plain": [
              "<tf.Tensor: shape=(3, 2), dtype=float32, numpy=\n",
              "array([[3., 3.],\n",
              "       [3., 3.],\n",
              "       [3., 3.]], dtype=float32)>"
            ]
          },
          "metadata": {},
          "execution_count": 57
        }
      ]
    },
    {
      "cell_type": "code",
      "metadata": {
        "id": "u8XV1hi7bX5-",
        "colab": {
          "base_uri": "https://localhost:8080/"
        },
        "outputId": "538281bf-6288-4208-d439-e8f6df97dd06"
      },
      "source": [
        "import timeit\n",
        "conv_layer = tf.keras.layers.Conv2D(100, 3)\n",
        "\n",
        "@tf.function\n",
        "def conv_fn(image):\n",
        "  return conv_layer(image)\n",
        "\n",
        "image = tf.zeros([1, 200, 200, 100])\n",
        "# 워밍 업\n",
        "conv_layer(image); conv_fn(image)\n",
        "print(\"Eager execution convolution:\", timeit.timeit(lambda: conv_layer(image), number=10))\n",
        "print(\"tf.function convolution:\", timeit.timeit(lambda: conv_fn(image), number=10))\n",
        "print(\"no difference between these two to execute convolution !\")"
      ],
      "execution_count": 58,
      "outputs": [
        {
          "output_type": "stream",
          "name": "stdout",
          "text": [
            "Eager execution convolution: 0.006540416999996523\n",
            "tf.function convolution: 0.0077386810000348305\n",
            "no difference between these two to execute convolution !\n"
          ]
        }
      ]
    }
  ]
}