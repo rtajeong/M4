{
  "nbformat": 4,
  "nbformat_minor": 0,
  "metadata": {
    "colab": {
      "name": "lab_04_xor_nn_rev2.ipynb",
      "provenance": [],
      "collapsed_sections": [],
      "authorship_tag": "ABX9TyMJDYiGVp+chgix03vzgfJO",
      "include_colab_link": true
    },
    "kernelspec": {
      "name": "python3",
      "display_name": "Python 3"
    },
    "accelerator": "GPU"
  },
  "cells": [
    {
      "cell_type": "markdown",
      "metadata": {
        "id": "view-in-github",
        "colab_type": "text"
      },
      "source": [
        "<a href=\"https://colab.research.google.com/github/rtajeong/M4/blob/main/lab_04_xor_nn_rev2.ipynb\" target=\"_parent\"><img src=\"https://colab.research.google.com/assets/colab-badge.svg\" alt=\"Open In Colab\"/></a>"
      ]
    },
    {
      "cell_type": "markdown",
      "metadata": {
        "id": "Rkmy3I72suHZ"
      },
      "source": [
        "# EXOR problem"
      ]
    },
    {
      "cell_type": "markdown",
      "metadata": {
        "id": "MZxv8FwEyizl"
      },
      "source": [
        "# Let's try to solve this problem using SVC and DecisionTree"
      ]
    },
    {
      "cell_type": "code",
      "metadata": {
        "colab": {
          "base_uri": "https://localhost:8080/"
        },
        "id": "V-Lya8Bbyv8J",
        "outputId": "ae68a999-e4b1-4f72-fae4-65dc871fd200"
      },
      "source": [
        "import numpy as np\n",
        "\n",
        "X = np.array([[0, 0], \n",
        "              [0, 1], \n",
        "              [1, 0], \n",
        "              [1, 1]])\n",
        "Y = np.array([[0], \n",
        "              [1], \n",
        "              [1], \n",
        "              [0]])\n",
        "\n",
        "from sklearn.svm import SVC\n",
        "clf1 = SVC(kernel='linear')\n",
        "clf2 = SVC(kernel=\"rbf\", C=1e-5, gamma=1e-5, probability=True)\n",
        "clf3 = SVC(kernel=\"rbf\", C=1000, gamma=0.1, probability=True)\n",
        "clf1.fit(X, Y)\n",
        "clf2.fit(X, Y.ravel())\n",
        "clf3.fit(X, Y.ravel())\n",
        "print(clf1.predict(X))\n",
        "print(clf2.predict(X))\n",
        "print(clf3.predict(X))"
      ],
      "execution_count": 1,
      "outputs": [
        {
          "output_type": "stream",
          "name": "stdout",
          "text": [
            "[1 1 1 1]\n",
            "[0 1 1 0]\n",
            "[0 1 1 0]\n"
          ]
        },
        {
          "output_type": "stream",
          "name": "stderr",
          "text": [
            "/usr/local/lib/python3.7/dist-packages/sklearn/utils/validation.py:993: DataConversionWarning: A column-vector y was passed when a 1d array was expected. Please change the shape of y to (n_samples, ), for example using ravel().\n",
            "  y = column_or_1d(y, warn=True)\n"
          ]
        }
      ]
    },
    {
      "cell_type": "code",
      "metadata": {
        "colab": {
          "base_uri": "https://localhost:8080/"
        },
        "id": "IXXdrkuJy7Cw",
        "outputId": "3ea7436b-f463-4b60-8e5a-3f82f905d630"
      },
      "source": [
        "from sklearn.tree import DecisionTreeClassifier\n",
        "clf1 = DecisionTreeClassifier(max_depth=1)\n",
        "clf2 = DecisionTreeClassifier(max_depth=2)\n",
        "clf1.fit(X, Y)\n",
        "clf2.fit(X, Y)\n",
        "clf1.predict(X), clf2.predict(X)"
      ],
      "execution_count": 2,
      "outputs": [
        {
          "output_type": "execute_result",
          "data": {
            "text/plain": [
              "(array([0, 0, 0, 0]), array([0, 1, 1, 0]))"
            ]
          },
          "metadata": {},
          "execution_count": 2
        }
      ]
    },
    {
      "cell_type": "markdown",
      "metadata": {
        "id": "X3-lhKVHyr7g"
      },
      "source": [
        "## Now, let's try this with Tensorflow"
      ]
    },
    {
      "cell_type": "code",
      "metadata": {
        "id": "YCtd600K_XZA",
        "colab": {
          "base_uri": "https://localhost:8080/"
        },
        "outputId": "3a842c9c-9520-4d8c-b47a-1f44031a29b4"
      },
      "source": [
        "import tensorflow as tf\n",
        "import numpy as np\n",
        "import matplotlib.pyplot as plt\n",
        "%matplotlib inline\n",
        "\n",
        "np.random.seed(22)  # for reproducibility\n",
        "\n",
        "X = np.array([[0, 0], [0, 1], [1, 0], [1, 1]], dtype=np.float32)\n",
        "Y = np.array([[0], [1], [1], [0]], dtype=np.float32)\n",
        "\n",
        "W = tf.Variable(tf.random.normal([2, 1]), name=\"weight\")\n",
        "b = tf.Variable(tf.random.normal([1]), name=\"bias\")\n",
        "# W = tf.Variable([[2.],[10.]])\n",
        "# b = tf.Variable([3.])\n",
        "\n",
        "\n",
        "learning_rate = 0.1\n",
        "lossHistory = []\n",
        "\n",
        "for step in range(500):\n",
        "    with tf.GradientTape() as tape:\n",
        "        hypothesis = tf.sigmoid(tf.matmul(X, W) + b)\n",
        "        cost = -tf.reduce_mean(Y * tf.math.log(hypothesis) + \n",
        "                               (1 - Y) * tf.math.log(1 - hypothesis))\n",
        "\n",
        "    W_grad, b_grad = tape.gradient(cost, [W,b])  # dCost/dw, dCost/db\n",
        "    W.assign_sub(learning_rate * W_grad)\n",
        "    b.assign_sub(learning_rate * b_grad)\n",
        "    lossHistory.append(cost)\n",
        "\n",
        "    # if step % 10 == 0: print(step, cost.numpy(), W.numpy(), b.numpy())\n",
        "\n",
        "predicted = tf.cast(hypothesis > 0.5, dtype=tf.float32)\n",
        "accuracy = tf.reduce_mean(tf.cast(tf.equal(predicted, Y), dtype=tf.float32))\n",
        "\n",
        "print(W, b)\n",
        "print(X.shape, W.shape, Y.shape)\n",
        "print(\"\\nHypothesis: \", hypothesis.numpy(), \n",
        "      \"\\n Correct: \", predicted.numpy(), \n",
        "      \"\\n Accuracy: \", accuracy.numpy())\n",
        "\n"
      ],
      "execution_count": 3,
      "outputs": [
        {
          "output_type": "stream",
          "name": "stdout",
          "text": [
            "<tf.Variable 'weight:0' shape=(2, 1) dtype=float32, numpy=\n",
            "array([[0.03227285],\n",
            "       [0.10054555]], dtype=float32)> <tf.Variable 'bias:0' shape=(1,) dtype=float32, numpy=array([-0.07877648], dtype=float32)>\n",
            "(4, 2) (2, 1) (4, 1)\n",
            "\n",
            "Hypothesis:  [[0.4802386 ]\n",
            " [0.5054835 ]\n",
            " [0.4883104 ]\n",
            " [0.51356035]] \n",
            " Correct:  [[0.]\n",
            " [1.]\n",
            " [0.]\n",
            " [1.]] \n",
            " Accuracy:  0.5\n"
          ]
        }
      ]
    },
    {
      "cell_type": "code",
      "metadata": {
        "id": "1LW3P-g-t0IE",
        "colab": {
          "base_uri": "https://localhost:8080/",
          "height": 282
        },
        "outputId": "017e5941-f5cf-47a1-e544-d88e5a80541c"
      },
      "source": [
        "aa, bb, cc = W[0,0].numpy(), W[1,0].numpy(), b.numpy()\n",
        "plt.scatter(X[:,0], X[:,1], c=Y)\n",
        "xx = np.linspace(-1,1,20)\n",
        "plt.plot(xx, -aa/bb* xx - b/bb)"
      ],
      "execution_count": 4,
      "outputs": [
        {
          "output_type": "execute_result",
          "data": {
            "text/plain": [
              "[<matplotlib.lines.Line2D at 0x7fd6102b5d90>]"
            ]
          },
          "metadata": {},
          "execution_count": 4
        },
        {
          "output_type": "display_data",
          "data": {
            "image/png": "[encoded data removed]",
            "text/plain": [
              "<Figure size 432x288 with 1 Axes>"
            ]
          },
          "metadata": {
            "needs_background": "light"
          }
        }
      ]
    },
    {
      "cell_type": "code",
      "metadata": {
        "id": "Jz-bZNgmJAsD",
        "colab": {
          "base_uri": "https://localhost:8080/",
          "height": 282
        },
        "outputId": "d5e410a7-59c3-41d8-974e-ba82f5fdb0ea"
      },
      "source": [
        "plt.plot(lossHistory)"
      ],
      "execution_count": 5,
      "outputs": [
        {
          "output_type": "execute_result",
          "data": {
            "text/plain": [
              "[<matplotlib.lines.Line2D at 0x7fd610180f10>]"
            ]
          },
          "metadata": {},
          "execution_count": 5
        },
        {
          "output_type": "display_data",
          "data": {
            "image/png": "[encoded data removed]",
            "text/plain": [
              "<Figure size 432x288 with 1 Axes>"
            ]
          },
          "metadata": {
            "needs_background": "light"
          }
        }
      ]
    },
    {
      "cell_type": "markdown",
      "metadata": {
        "id": "8dyKMrRbTg3S"
      },
      "source": [
        "# EXOR problem with Keras"
      ]
    },
    {
      "cell_type": "code",
      "metadata": {
        "id": "p04WDq1WDM_j",
        "colab": {
          "base_uri": "https://localhost:8080/"
        },
        "outputId": "a6fbb669-e960-480f-a889-80effe87c510"
      },
      "source": [
        "from tensorflow.keras.models import Sequential\n",
        "from tensorflow.keras.layers import Dense, Flatten\n",
        "from tensorflow.keras.optimizers import SGD, Adam\n",
        "\n",
        "X = np.array([[0,0],[0,1],[1,0],[1,1]])\n",
        "Y = np.array([[0],[1],[1],[0]])\n",
        "\n",
        "model = Sequential()\n",
        "model.add(Dense(1, input_shape=(2,), activation='sigmoid'))\n",
        "model.summary()\n",
        "\n",
        "model.compile(optimizer=Adam(learning_rate=0.1), \n",
        "              loss='binary_crossentropy',\n",
        "              metrics=['accuracy'])\n",
        "history = model.fit(X, Y, epochs=1000, verbose=0)\n",
        "print(model.predict(X))\n",
        "# print([i.numpy() for i in model.weights])"
      ],
      "execution_count": 6,
      "outputs": [
        {
          "output_type": "stream",
          "name": "stdout",
          "text": [
            "Model: \"sequential\"\n",
            "_________________________________________________________________\n",
            " Layer (type)                Output Shape              Param #   \n",
            "=================================================================\n",
            " dense (Dense)               (None, 1)                 3         \n",
            "                                                                 \n",
            "=================================================================\n",
            "Total params: 3\n",
            "Trainable params: 3\n",
            "Non-trainable params: 0\n",
            "_________________________________________________________________\n",
            "[[0.5]\n",
            " [0.5]\n",
            " [0.5]\n",
            " [0.5]]\n"
          ]
        }
      ]
    },
    {
      "cell_type": "code",
      "metadata": {
        "id": "GSP9LsOKTv-H",
        "colab": {
          "base_uri": "https://localhost:8080/",
          "height": 282
        },
        "outputId": "0022e105-6898-4248-8abb-6aca53fb9c6a"
      },
      "source": [
        "import matplotlib.pyplot as plt\n",
        "plt.subplot(1,2,1)\n",
        "plt.plot(history.history['loss'])\n",
        "plt.subplot(1,2,2)\n",
        "plt.plot(history.history['accuracy'])"
      ],
      "execution_count": 7,
      "outputs": [
        {
          "output_type": "execute_result",
          "data": {
            "text/plain": [
              "[<matplotlib.lines.Line2D at 0x7fd59ce40a50>]"
            ]
          },
          "metadata": {},
          "execution_count": 7
        },
        {
          "output_type": "display_data",
          "data": {
            "image/png": "[encoded data removed]",
            "text/plain": [
              "<Figure size 432x288 with 2 Axes>"
            ]
          },
          "metadata": {
            "needs_background": "light"
          }
        }
      ]
    },
    {
      "cell_type": "markdown",
      "metadata": {
        "id": "w-g5xa7ZUUpR"
      },
      "source": [
        "# EOR problem with two layers (Tensorflow)"
      ]
    },
    {
      "cell_type": "code",
      "metadata": {
        "colab": {
          "base_uri": "https://localhost:8080/"
        },
        "id": "COE1Fl_BfMaK",
        "outputId": "536b08b9-6f9f-4155-e972-fd9571f1f063"
      },
      "source": [
        "import tensorflow as tf\n",
        "import numpy as np\n",
        "import matplotlib.pyplot as plt\n",
        "%matplotlib inline\n",
        "\n",
        "np.random.seed(172)  # for reproducibility\n",
        "\n",
        "X = np.array([[0, 0], [0, 1], [1, 0], [1, 1]], dtype=np.float32)\n",
        "Y = np.array([[0], [1], [1], [0]], dtype=np.float32)\n",
        "\n",
        "W1 = tf.Variable(tf.random.uniform([2, 2], -1.0, 1.0))\n",
        "W2 = tf.Variable(tf.random.uniform([2, 1], -1.0, 1.0))\n",
        "b1 = tf.Variable(tf.random.normal([2]))\n",
        "b2 = tf.Variable(tf.random.normal([1]))\n",
        "\n",
        "# if you try the following, you will get accuracy 1.0 (solution already known)\n",
        "# W1 = tf.Variable([[20.,-20.],[20.,-20.]])\n",
        "# W2 = tf.Variable([[20.],[20.]])\n",
        "# b1 = tf.Variable([-10.,30.])\n",
        "# b2 = tf.Variable([-30.])\n",
        "\n",
        "learning_rate = 0.1\n",
        "lossHistory = []\n",
        "\n",
        "for step in range(500):\n",
        "    with tf.GradientTape() as tape:\n",
        "        L2 = tf.sigmoid(tf.matmul(X, W1) + b1)\n",
        "        hypothesis = tf.sigmoid(tf.matmul(L2, W2) + b2)\n",
        "        cost = -tf.reduce_mean(Y * tf.math.log(hypothesis) + \n",
        "                               (1 - Y) * tf.math.log(1 - hypothesis))\n",
        "\n",
        "    grads = tape.gradient(cost, [W1, W2, b1, b2])  # dCost/dw, dCost/db\n",
        "    W1.assign_sub(learning_rate * grads[0])\n",
        "    W2.assign_sub(learning_rate * grads[1])\n",
        "    b1.assign_sub(learning_rate * grads[2])\n",
        "    b2.assign_sub(learning_rate * grads[3])\n",
        "    lossHistory.append(cost)\n",
        "\n",
        "    # if step % 10 == 0: print(step, cost.numpy(), W.numpy(), b.numpy())\n",
        "\n",
        "predicted = tf.cast(hypothesis > 0.5, dtype=tf.float32)\n",
        "accuracy = tf.reduce_mean(tf.cast(tf.equal(predicted, Y), dtype=tf.float32))\n",
        "\n",
        "print(W, b)\n",
        "print(X.shape, W.shape, Y.shape)\n",
        "print(\"\\nHypothesis: \", hypothesis.numpy(), \n",
        "      \"\\n Correct: \", predicted.numpy(), \n",
        "      \"\\n Accuracy: \", accuracy.numpy())\n"
      ],
      "execution_count": 18,
      "outputs": [
        {
          "output_type": "stream",
          "name": "stdout",
          "text": [
            "<tf.Variable 'weight:0' shape=(2, 1) dtype=float32, numpy=\n",
            "array([[0.03227285],\n",
            "       [0.10054555]], dtype=float32)> <tf.Variable 'bias:0' shape=(1,) dtype=float32, numpy=array([-0.07877648], dtype=float32)>\n",
            "(4, 2) (2, 1) (4, 1)\n",
            "\n",
            "Hypothesis:  [[0.49960583]\n",
            " [0.48808774]\n",
            " [0.50899696]\n",
            " [0.4976909 ]] \n",
            " Correct:  [[0.]\n",
            " [0.]\n",
            " [1.]\n",
            " [0.]] \n",
            " Accuracy:  0.75\n"
          ]
        }
      ]
    },
    {
      "cell_type": "markdown",
      "metadata": {
        "id": "qRscP69wVDiF"
      },
      "source": [
        "- you may or may not have the solution."
      ]
    },
    {
      "cell_type": "markdown",
      "metadata": {
        "id": "ePQ6o1TzhCtC"
      },
      "source": [
        "# EOR problem with two layers (Keras)"
      ]
    },
    {
      "cell_type": "code",
      "metadata": {
        "id": "DgRs6T8uHfhh",
        "colab": {
          "base_uri": "https://localhost:8080/",
          "height": 614
        },
        "outputId": "feaa9b31-6ae2-4183-9eed-ae99ac61b57f"
      },
      "source": [
        "import numpy as np\n",
        "import matplotlib.pyplot as plt\n",
        "%matplotlib inline\n",
        "from tensorflow.keras.models import Sequential\n",
        "from tensorflow.keras.layers import Dense, Flatten\n",
        "from tensorflow.keras.optimizers import SGD\n",
        "\n",
        "X = np.array([[0,0],[0,1],[1,0],[1,1]])\n",
        "Y = np.array([[0],[1],[1],[0]])\n",
        "\n",
        "model = Sequential()\n",
        "model.add(Dense(8, input_shape=(2,), activation='relu')) # input_shape = (dim_1, dim2, ...)\n",
        "model.add(Dense(1, activation='sigmoid'))\n",
        "model.summary()\n",
        "\n",
        "model.compile(optimizer=SGD(learning_rate=0.1), \n",
        "              loss='binary_crossentropy',\n",
        "              metrics=['accuracy'])\n",
        "history = model.fit(X, Y, epochs=1000, batch_size=4, verbose=0)\n",
        "print(model.predict(X))\n",
        "\n",
        "plt.subplot(1,2,1)\n",
        "plt.plot(history.history['loss'])\n",
        "plt.subplot(1,2,2)\n",
        "plt.plot(history.history['accuracy'])"
      ],
      "execution_count": 19,
      "outputs": [
        {
          "output_type": "stream",
          "name": "stdout",
          "text": [
            "Model: \"sequential_4\"\n",
            "_________________________________________________________________\n",
            " Layer (type)                Output Shape              Param #   \n",
            "=================================================================\n",
            " dense_17 (Dense)            (None, 8)                 24        \n",
            "                                                                 \n",
            " dense_18 (Dense)            (None, 1)                 9         \n",
            "                                                                 \n",
            "=================================================================\n",
            "Total params: 33\n",
            "Trainable params: 33\n",
            "Non-trainable params: 0\n",
            "_________________________________________________________________\n",
            "WARNING:tensorflow:5 out of the last 5 calls to <function Model.make_predict_function.<locals>.predict_function at 0x7fd596b99680> triggered tf.function retracing. Tracing is expensive and the excessive number of tracings could be due to (1) creating @tf.function repeatedly in a loop, (2) passing tensors with different shapes, (3) passing Python objects instead of tensors. For (1), please define your @tf.function outside of the loop. For (2), @tf.function has experimental_relax_shapes=True option that relaxes argument shapes that can avoid unnecessary retracing. For (3), please refer to https://www.tensorflow.org/guide/function#controlling_retracing and https://www.tensorflow.org/api_docs/python/tf/function for  more details.\n",
            "[[0.49646956]\n",
            " [0.99116665]\n",
            " [0.49646956]\n",
            " [0.0157868 ]]\n"
          ]
        },
        {
          "output_type": "execute_result",
          "data": {
            "text/plain": [
              "[<matplotlib.lines.Line2D at 0x7fd596caf250>]"
            ]
          },
          "metadata": {},
          "execution_count": 19
        },
        {
          "output_type": "display_data",
          "data": {
            "image/png": "[encoded data removed]",
            "text/plain": [
              "<Figure size 432x288 with 2 Axes>"
            ]
          },
          "metadata": {
            "needs_background": "light"
          }
        }
      ]
    },
    {
      "cell_type": "markdown",
      "metadata": {
        "id": "XcKDmef1wN0z"
      },
      "source": [
        "# Try deep network with sigmoid"
      ]
    },
    {
      "cell_type": "code",
      "metadata": {
        "id": "5c0NwhctNJn9",
        "colab": {
          "base_uri": "https://localhost:8080/",
          "height": 823
        },
        "outputId": "65c8bd71-bd69-4d39-87f0-80f54b1e7336"
      },
      "source": [
        "X = np.array([[0,0],[0,1],[1,0],[1,1]])\n",
        "Y = np.array([[0],[1],[1],[0]])\n",
        "\n",
        "model = Sequential()\n",
        "model.add(Dense(8, input_shape=(2,), activation='sigmoid'))\n",
        "model.add(Dense(8, activation='sigmoid'))\n",
        "model.add(Dense(8, activation='sigmoid'))\n",
        "model.add(Dense(8, activation='sigmoid'))\n",
        "model.add(Dense(8, activation='sigmoid'))\n",
        "model.add(Dense(8, activation='sigmoid'))\n",
        "model.add(Dense(8, activation='sigmoid'))\n",
        "model.add(Dense(1, activation='sigmoid'))\n",
        "model.summary()\n",
        "\n",
        "model.compile(optimizer=SGD(learning_rate=0.1), \n",
        "              loss='binary_crossentropy',\n",
        "              metrics=['accuracy'])\n",
        "history = model.fit(X, Y, epochs=100, batch_size=1, verbose=0)\n",
        "print(model.predict(X))\n",
        "\n",
        "plt.subplot(1,2,1)\n",
        "plt.plot(history.history['loss'])\n",
        "plt.subplot(1,2,2)\n",
        "plt.plot(history.history['accuracy'])"
      ],
      "execution_count": 20,
      "outputs": [
        {
          "output_type": "stream",
          "name": "stdout",
          "text": [
            "Model: \"sequential_5\"\n",
            "_________________________________________________________________\n",
            " Layer (type)                Output Shape              Param #   \n",
            "=================================================================\n",
            " dense_19 (Dense)            (None, 8)                 24        \n",
            "                                                                 \n",
            " dense_20 (Dense)            (None, 8)                 72        \n",
            "                                                                 \n",
            " dense_21 (Dense)            (None, 8)                 72        \n",
            "                                                                 \n",
            " dense_22 (Dense)            (None, 8)                 72        \n",
            "                                                                 \n",
            " dense_23 (Dense)            (None, 8)                 72        \n",
            "                                                                 \n",
            " dense_24 (Dense)            (None, 8)                 72        \n",
            "                                                                 \n",
            " dense_25 (Dense)            (None, 8)                 72        \n",
            "                                                                 \n",
            " dense_26 (Dense)            (None, 1)                 9         \n",
            "                                                                 \n",
            "=================================================================\n",
            "Total params: 465\n",
            "Trainable params: 465\n",
            "Non-trainable params: 0\n",
            "_________________________________________________________________\n",
            "WARNING:tensorflow:6 out of the last 6 calls to <function Model.make_predict_function.<locals>.predict_function at 0x7fd596210320> triggered tf.function retracing. Tracing is expensive and the excessive number of tracings could be due to (1) creating @tf.function repeatedly in a loop, (2) passing tensors with different shapes, (3) passing Python objects instead of tensors. For (1), please define your @tf.function outside of the loop. For (2), @tf.function has experimental_relax_shapes=True option that relaxes argument shapes that can avoid unnecessary retracing. For (3), please refer to https://www.tensorflow.org/guide/function#controlling_retracing and https://www.tensorflow.org/api_docs/python/tf/function for  more details.\n",
            "[[0.49045706]\n",
            " [0.4904542 ]\n",
            " [0.49045965]\n",
            " [0.49045667]]\n"
          ]
        },
        {
          "output_type": "execute_result",
          "data": {
            "text/plain": [
              "[<matplotlib.lines.Line2D at 0x7fd5960c8210>]"
            ]
          },
          "metadata": {},
          "execution_count": 20
        },
        {
          "output_type": "display_data",
          "data": {
            "image/png": "[encoded data removed]",
            "text/plain": [
              "<Figure size 432x288 with 2 Axes>"
            ]
          },
          "metadata": {
            "needs_background": "light"
          }
        }
      ]
    },
    {
      "cell_type": "markdown",
      "metadata": {
        "id": "mrFFm0jBwWHu"
      },
      "source": [
        "# Now, we change activation function to \"relu\""
      ]
    },
    {
      "cell_type": "code",
      "metadata": {
        "id": "XvQA-K8ivbJr",
        "colab": {
          "base_uri": "https://localhost:8080/",
          "height": 716
        },
        "outputId": "7ee53cf1-6e00-4169-f1e5-7cae2be51cf8"
      },
      "source": [
        "X = np.array([[0,0],[0,1],[1,0],[1,1]])\n",
        "Y = np.array([[0],[1],[1],[0]])\n",
        "\n",
        "model = Sequential()\n",
        "model.add(Dense(8, input_shape=(2,), activation='relu'))\n",
        "model.add(Dense(8, activation='relu'))\n",
        "model.add(Dense(8, activation='relu'))\n",
        "model.add(Dense(8, activation='relu'))\n",
        "model.add(Dense(8, activation='relu'))\n",
        "model.add(Dense(1, activation='sigmoid'))\n",
        "model.summary()\n",
        "\n",
        "history = model.compile(optimizer=SGD(learning_rate=0.01), \n",
        "              loss='binary_crossentropy',\n",
        "              metrics=['accuracy'])\n",
        "history = model.fit(X, Y, epochs=1000, batch_size=1, verbose=0)\n",
        "print(model.predict(X))\n",
        "\n",
        "plt.subplot(1,2,1)\n",
        "plt.plot(history.history['loss'])\n",
        "plt.subplot(1,2,2)\n",
        "plt.plot(history.history['accuracy'])"
      ],
      "execution_count": 23,
      "outputs": [
        {
          "output_type": "stream",
          "name": "stdout",
          "text": [
            "Model: \"sequential_8\"\n",
            "_________________________________________________________________\n",
            " Layer (type)                Output Shape              Param #   \n",
            "=================================================================\n",
            " dense_39 (Dense)            (None, 8)                 24        \n",
            "                                                                 \n",
            " dense_40 (Dense)            (None, 8)                 72        \n",
            "                                                                 \n",
            " dense_41 (Dense)            (None, 8)                 72        \n",
            "                                                                 \n",
            " dense_42 (Dense)            (None, 8)                 72        \n",
            "                                                                 \n",
            " dense_43 (Dense)            (None, 8)                 72        \n",
            "                                                                 \n",
            " dense_44 (Dense)            (None, 1)                 9         \n",
            "                                                                 \n",
            "=================================================================\n",
            "Total params: 321\n",
            "Trainable params: 321\n",
            "Non-trainable params: 0\n",
            "_________________________________________________________________\n",
            "[[1.0470588e-02]\n",
            " [9.9944049e-01]\n",
            " [9.9916327e-01]\n",
            " [4.2553592e-04]]\n"
          ]
        },
        {
          "output_type": "execute_result",
          "data": {
            "text/plain": [
              "[<matplotlib.lines.Line2D at 0x7fd59cbcca10>]"
            ]
          },
          "metadata": {},
          "execution_count": 23
        },
        {
          "output_type": "display_data",
          "data": {
            "image/png": "[encoded data removed]",
            "text/plain": [
              "<Figure size 432x288 with 2 Axes>"
            ]
          },
          "metadata": {
            "needs_background": "light"
          }
        }
      ]
    },
    {
      "cell_type": "markdown",
      "metadata": {
        "id": "9nstPZ0ARW4p"
      },
      "source": [
        "# Exercise (연습)"
      ]
    },
    {
      "cell_type": "code",
      "metadata": {
        "id": "rLixpiY8xOO3",
        "colab": {
          "base_uri": "https://localhost:8080/"
        },
        "outputId": "9573303e-02f4-4cd5-a6bd-e2183fcc30f5"
      },
      "source": [
        "hypothesis = 0.401\n",
        "hypothesis > 0.5\n",
        "tf.cast(hypothesis > 0.5, dtype=tf.float32)"
      ],
      "execution_count": 12,
      "outputs": [
        {
          "output_type": "execute_result",
          "data": {
            "text/plain": [
              "<tf.Tensor: shape=(), dtype=float32, numpy=0.0>"
            ]
          },
          "metadata": {},
          "execution_count": 12
        }
      ]
    },
    {
      "cell_type": "code",
      "metadata": {
        "id": "rgFlzGspRsuk",
        "colab": {
          "base_uri": "https://localhost:8080/"
        },
        "outputId": "3a92b3e6-f8cd-40c0-ba91-6a4e1fe53345"
      },
      "source": [
        "a = tf.constant(True)\n",
        "tf.cast(a, dtype=tf.float32) + 1.0"
      ],
      "execution_count": 13,
      "outputs": [
        {
          "output_type": "execute_result",
          "data": {
            "text/plain": [
              "<tf.Tensor: shape=(), dtype=float32, numpy=2.0>"
            ]
          },
          "metadata": {},
          "execution_count": 13
        }
      ]
    },
    {
      "cell_type": "markdown",
      "source": [
        "- exam"
      ],
      "metadata": {
        "id": "t7wX2hUAj3jC"
      }
    },
    {
      "cell_type": "code",
      "metadata": {
        "id": "Ww2sc84XyY5R",
        "colab": {
          "base_uri": "https://localhost:8080/"
        },
        "outputId": "df052863-ab70-4f75-840b-81c5f85aae0a"
      },
      "source": [
        "import numpy as np\n",
        "from sklearn.svm import SVC\n",
        "from sklearn.tree import DecisionTreeClassifier\n",
        "\n",
        "X = np.array([[0, 0], \n",
        "              [0, 1], \n",
        "              [1, 0], \n",
        "              [1, 1]])\n",
        "Y = np.array([[0], \n",
        "              [1], \n",
        "              [1], \n",
        "              [0]])\n",
        "\n",
        "clf1 = SVC(kernel='linear')\n",
        "clf2 = DecisionTreeClassifier(max_depth=1)\n",
        "clf1.fit(X, Y)\n",
        "clf2.fit(X, Y)\n",
        "print(clf1.predict(X), clf2.predict(X))"
      ],
      "execution_count": 14,
      "outputs": [
        {
          "output_type": "stream",
          "name": "stdout",
          "text": [
            "[1 1 1 1] [0 0 0 0]\n"
          ]
        },
        {
          "output_type": "stream",
          "name": "stderr",
          "text": [
            "/usr/local/lib/python3.7/dist-packages/sklearn/utils/validation.py:993: DataConversionWarning: A column-vector y was passed when a 1d array was expected. Please change the shape of y to (n_samples, ), for example using ravel().\n",
            "  y = column_or_1d(y, warn=True)\n"
          ]
        }
      ]
    },
    {
      "cell_type": "code",
      "source": [
        "clf3 = SVC(kernel=\"rbf\")\n",
        "clf4 = DecisionTreeClassifier(max_depth=2)\n",
        "clf3.fit(X, Y)\n",
        "clf4.fit(X, Y)\n",
        "clf3.predict(X), clf4.predict(X)"
      ],
      "metadata": {
        "colab": {
          "base_uri": "https://localhost:8080/"
        },
        "id": "NmggqLQAkOiw",
        "outputId": "a46acf20-87a1-4d5e-ceae-04e70d66efa6"
      },
      "execution_count": 15,
      "outputs": [
        {
          "output_type": "stream",
          "name": "stderr",
          "text": [
            "/usr/local/lib/python3.7/dist-packages/sklearn/utils/validation.py:993: DataConversionWarning: A column-vector y was passed when a 1d array was expected. Please change the shape of y to (n_samples, ), for example using ravel().\n",
            "  y = column_or_1d(y, warn=True)\n"
          ]
        },
        {
          "output_type": "execute_result",
          "data": {
            "text/plain": [
              "(array([0, 1, 1, 0]), array([0, 1, 1, 0]))"
            ]
          },
          "metadata": {},
          "execution_count": 15
        }
      ]
    }
  ]
}