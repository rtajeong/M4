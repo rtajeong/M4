{
  "nbformat": 4,
  "nbformat_minor": 0,
  "metadata": {
    "kernelspec": {
      "display_name": "Python 3",
      "name": "python3"
    },
    "language_info": {
      "codemirror_mode": {
        "name": "ipython",
        "version": 3
      },
      "file_extension": ".py",
      "mimetype": "text/x-python",
      "name": "python",
      "nbconvert_exporter": "python",
      "pygments_lexer": "ipython3",
      "version": "3.6.8"
    },
    "colab": {
      "provenance": [],
      "toc_visible": true,
      "include_colab_link": true
    }
  },
  "cells": [
    {
      "cell_type": "markdown",
      "metadata": {
        "id": "view-in-github",
        "colab_type": "text"
      },
      "source": [
        "<a href=\"https://colab.research.google.com/github/rtajeong/M4/blob/main/lab_03_tensor_manipulation_rev3.ipynb\" target=\"_parent\"><img src=\"https://colab.research.google.com/assets/colab-badge.svg\" alt=\"Open In Colab\"/></a>"
      ]
    },
    {
      "cell_type": "markdown",
      "metadata": {
        "id": "Yk7f_1HiuUPT"
      },
      "source": [
        "# **Tensor Manipulation**\n",
        "- from Prof. Sunghun Kim's lecture lab\n",
        "- modified by jyj"
      ]
    },
    {
      "cell_type": "code",
      "metadata": {
        "id": "jV8_gOOnuUPX"
      },
      "source": [
        "# https://www.tensorflow.org/api_guides/python/array_ops\n",
        "import tensorflow as tf\n",
        "import numpy as np\n",
        "import pprint\n",
        "np.random.seed(17)  # for reproducibility\n",
        "\n",
        "pp = pprint.PrettyPrinter(indent=4)"
      ],
      "execution_count": 1,
      "outputs": []
    },
    {
      "cell_type": "markdown",
      "metadata": {
        "id": "FXqDg2kFuUPy"
      },
      "source": [
        "# Arrays"
      ]
    },
    {
      "cell_type": "code",
      "metadata": {
        "id": "ZhZuLPawuUP1",
        "colab": {
          "base_uri": "https://localhost:8080/"
        },
        "outputId": "fc0a9955-4fc2-4af2-c7d4-1cccace372b4"
      },
      "source": [
        "t = np.array([0., 1., 2., 3., 4., 5., 6.])\n",
        "print(t)\n",
        "print(t.ndim) # rank\n",
        "print(t.shape) # shape\n",
        "print(t[0], t[1], t[-1])\n",
        "print(t[2:5], t[4:-1])\n",
        "print(t[:2], t[3:])"
      ],
      "execution_count": 127,
      "outputs": [
        {
          "output_type": "stream",
          "name": "stdout",
          "text": [
            "[0. 1. 2. 3. 4. 5. 6.]\n",
            "1\n",
            "(7,)\n",
            "0.0 1.0 6.0\n",
            "[2. 3. 4.] [4. 5.]\n",
            "[0. 1.] [3. 4. 5. 6.]\n"
          ]
        },
        {
          "output_type": "execute_result",
          "data": {
            "text/plain": [
              "dtype('float64')"
            ]
          },
          "metadata": {},
          "execution_count": 127
        }
      ]
    },
    {
      "cell_type": "markdown",
      "metadata": {
        "id": "1wuMr1_iuUQX"
      },
      "source": [
        "- 2D Array"
      ]
    },
    {
      "cell_type": "code",
      "metadata": {
        "id": "QDFwm9HRuUQb",
        "colab": {
          "base_uri": "https://localhost:8080/"
        },
        "outputId": "16881ad3-3e2c-4e8e-efb6-35f0d227594b"
      },
      "source": [
        "t = np.array([[1., 2., 3.],\n",
        "              [4., 5., 6.],\n",
        "              [7., 8., 9.],\n",
        "              [10., 11., 12.]])\n",
        "pp.pprint(t)\n",
        "print(t.ndim) # rank\n",
        "print(t.shape) # shape\n",
        "print(t.dtype)          # 64-bit default (tensors are 32-bit default)"
      ],
      "execution_count": 3,
      "outputs": [
        {
          "output_type": "stream",
          "name": "stdout",
          "text": [
            "array([[ 1.,  2.,  3.],\n",
            "       [ 4.,  5.,  6.],\n",
            "       [ 7.,  8.,  9.],\n",
            "       [10., 11., 12.]])\n",
            "2\n",
            "(4, 3)\n",
            "float64\n"
          ]
        }
      ]
    },
    {
      "cell_type": "markdown",
      "metadata": {
        "id": "uuWxE1D9uUQu"
      },
      "source": [
        "# Tensor"
      ]
    },
    {
      "cell_type": "markdown",
      "source": [
        "##  Shape, Rank, Axis"
      ],
      "metadata": {
        "id": "J9yhCVy1nmA1"
      }
    },
    {
      "cell_type": "code",
      "metadata": {
        "id": "Ak7XN2LEuUQw",
        "colab": {
          "base_uri": "https://localhost:8080/"
        },
        "outputId": "747cb1ab-911e-4057-fc3c-1b2d613f7d19"
      },
      "source": [
        "t1 = tf.constant([1,2,3,4])\n",
        "t2 = tf.constant([[1,2,3,4]])\n",
        "print(t1, t1.numpy(), t1.dtype, t1.shape)\n",
        "print(t2, t2.numpy(), t2.dtype, t2.shape)"
      ],
      "execution_count": 4,
      "outputs": [
        {
          "output_type": "stream",
          "name": "stdout",
          "text": [
            "tf.Tensor([1 2 3 4], shape=(4,), dtype=int32) [1 2 3 4] <dtype: 'int32'> (4,)\n",
            "tf.Tensor([[1 2 3 4]], shape=(1, 4), dtype=int32) [[1 2 3 4]] <dtype: 'int32'> (1, 4)\n"
          ]
        }
      ]
    },
    {
      "cell_type": "code",
      "source": [
        "t1"
      ],
      "metadata": {
        "colab": {
          "base_uri": "https://localhost:8080/"
        },
        "id": "_0X69vAueRYy",
        "outputId": "c4429c89-ff1a-4e10-ed68-083dd67307f5"
      },
      "execution_count": 5,
      "outputs": [
        {
          "output_type": "execute_result",
          "data": {
            "text/plain": [
              "<tf.Tensor: shape=(4,), dtype=int32, numpy=array([1, 2, 3, 4], dtype=int32)>"
            ]
          },
          "metadata": {},
          "execution_count": 5
        }
      ]
    },
    {
      "cell_type": "code",
      "source": [
        "t1.numpy()"
      ],
      "metadata": {
        "colab": {
          "base_uri": "https://localhost:8080/"
        },
        "id": "cav50vUdewNS",
        "outputId": "acb88edc-259d-4737-e14b-d2c074979dd5"
      },
      "execution_count": 6,
      "outputs": [
        {
          "output_type": "execute_result",
          "data": {
            "text/plain": [
              "array([1, 2, 3, 4], dtype=int32)"
            ]
          },
          "metadata": {},
          "execution_count": 6
        }
      ]
    },
    {
      "cell_type": "code",
      "metadata": {
        "id": "zUYsuNRtuUQ-",
        "colab": {
          "base_uri": "https://localhost:8080/"
        },
        "outputId": "1de2c928-0c8f-434b-80b0-22a8b626bf81"
      },
      "source": [
        "t = tf.constant([[1,2],\n",
        "                 [3,4]])\n",
        "t"
      ],
      "execution_count": 7,
      "outputs": [
        {
          "output_type": "execute_result",
          "data": {
            "text/plain": [
              "<tf.Tensor: shape=(2, 2), dtype=int32, numpy=\n",
              "array([[1, 2],\n",
              "       [3, 4]], dtype=int32)>"
            ]
          },
          "metadata": {},
          "execution_count": 7
        }
      ]
    },
    {
      "cell_type": "code",
      "metadata": {
        "id": "YU3ipzaAuURJ",
        "colab": {
          "base_uri": "https://localhost:8080/"
        },
        "outputId": "52e13c4e-6042-4fa2-ae0e-dd9698e262ea"
      },
      "source": [
        "t = tf.constant([[[1, 2, 3, 4],\n",
        "                   [5, 6, 7, 8],\n",
        "                   [9, 10, 11, 12]],\n",
        "\n",
        "                  [[13, 14, 15, 16],\n",
        "                   [17, 18, 19, 20],\n",
        "                   [21, 22, 23, 24]]])\n",
        "print(tf.shape(t))\n",
        "t"
      ],
      "execution_count": 8,
      "outputs": [
        {
          "output_type": "stream",
          "name": "stdout",
          "text": [
            "tf.Tensor([2 3 4], shape=(3,), dtype=int32)\n"
          ]
        },
        {
          "output_type": "execute_result",
          "data": {
            "text/plain": [
              "<tf.Tensor: shape=(2, 3, 4), dtype=int32, numpy=\n",
              "array([[[ 1,  2,  3,  4],\n",
              "        [ 5,  6,  7,  8],\n",
              "        [ 9, 10, 11, 12]],\n",
              "\n",
              "       [[13, 14, 15, 16],\n",
              "        [17, 18, 19, 20],\n",
              "        [21, 22, 23, 24]]], dtype=int32)>"
            ]
          },
          "metadata": {},
          "execution_count": 8
        }
      ]
    },
    {
      "cell_type": "code",
      "metadata": {
        "id": "X0OOmBMWuURk",
        "colab": {
          "base_uri": "https://localhost:8080/"
        },
        "outputId": "81dd30da-7255-40ca-ad86-9f9a9b979918"
      },
      "source": [
        "t = tf.constant( \\\n",
        "[\n",
        "    [\n",
        "        [\n",
        "            [1,2,3,4],\n",
        "            [5,6,7,8],\n",
        "            [9,10,11,12]\n",
        "        ],\n",
        "        [\n",
        "            [13,14,15,16],\n",
        "            [17,18,19,20],\n",
        "            [21,22,23,24]\n",
        "        ]\n",
        "    ]\n",
        "])\n",
        "t"
      ],
      "execution_count": 9,
      "outputs": [
        {
          "output_type": "execute_result",
          "data": {
            "text/plain": [
              "<tf.Tensor: shape=(1, 2, 3, 4), dtype=int32, numpy=\n",
              "array([[[[ 1,  2,  3,  4],\n",
              "         [ 5,  6,  7,  8],\n",
              "         [ 9, 10, 11, 12]],\n",
              "\n",
              "        [[13, 14, 15, 16],\n",
              "         [17, 18, 19, 20],\n",
              "         [21, 22, 23, 24]]]], dtype=int32)>"
            ]
          },
          "metadata": {},
          "execution_count": 9
        }
      ]
    },
    {
      "cell_type": "markdown",
      "metadata": {
        "id": "cTRJ8uw9uUR3"
      },
      "source": [
        "## Matmul VS multiply"
      ]
    },
    {
      "cell_type": "code",
      "metadata": {
        "id": "9MJjj6LwuUR6",
        "colab": {
          "base_uri": "https://localhost:8080/"
        },
        "outputId": "d8ca1ae9-c8c6-4c54-892f-c62c5a70192e"
      },
      "source": [
        "matrix1 = tf.constant([[3., 3.]])\n",
        "matrix2 = tf.constant([[2.],\n",
        "                       [2.]])\n",
        "print(matrix1, matrix2)\n",
        "tf.matmul(matrix1, matrix2)"
      ],
      "execution_count": 10,
      "outputs": [
        {
          "output_type": "stream",
          "name": "stdout",
          "text": [
            "tf.Tensor([[3. 3.]], shape=(1, 2), dtype=float32) tf.Tensor(\n",
            "[[2.]\n",
            " [2.]], shape=(2, 1), dtype=float32)\n"
          ]
        },
        {
          "output_type": "execute_result",
          "data": {
            "text/plain": [
              "<tf.Tensor: shape=(1, 1), dtype=float32, numpy=array([[12.]], dtype=float32)>"
            ]
          },
          "metadata": {},
          "execution_count": 10
        }
      ]
    },
    {
      "cell_type": "code",
      "source": [
        "matrix1 @ matrix2"
      ],
      "metadata": {
        "colab": {
          "base_uri": "https://localhost:8080/"
        },
        "id": "qf_lZgn0f2gB",
        "outputId": "e44a06f3-47a4-4c41-e68a-736ed4313b07"
      },
      "execution_count": 11,
      "outputs": [
        {
          "output_type": "execute_result",
          "data": {
            "text/plain": [
              "<tf.Tensor: shape=(1, 1), dtype=float32, numpy=array([[12.]], dtype=float32)>"
            ]
          },
          "metadata": {},
          "execution_count": 11
        }
      ]
    },
    {
      "cell_type": "code",
      "metadata": {
        "id": "as219h2QuUSl",
        "colab": {
          "base_uri": "https://localhost:8080/"
        },
        "outputId": "15a9f8ed-b07a-40eb-95f4-bf995331af14"
      },
      "source": [
        "matrix1*matrix2    # broadcasting (be careful when using)"
      ],
      "execution_count": 12,
      "outputs": [
        {
          "output_type": "execute_result",
          "data": {
            "text/plain": [
              "<tf.Tensor: shape=(2, 2), dtype=float32, numpy=\n",
              "array([[6., 6.],\n",
              "       [6., 6.]], dtype=float32)>"
            ]
          },
          "metadata": {},
          "execution_count": 12
        }
      ]
    },
    {
      "cell_type": "markdown",
      "metadata": {
        "id": "VONKpLjRuUS3"
      },
      "source": [
        "## Watch out broadcasting"
      ]
    },
    {
      "cell_type": "code",
      "metadata": {
        "id": "4KCzdBGkuUS5",
        "colab": {
          "base_uri": "https://localhost:8080/"
        },
        "outputId": "89e30557-7f66-408a-da44-0c8f98d1db2a"
      },
      "source": [
        "matrix1 = tf.constant([[3., 3.]])\n",
        "matrix2 = tf.constant([[2.],[2.]])\n",
        "matrix1+matrix2"
      ],
      "execution_count": 13,
      "outputs": [
        {
          "output_type": "execute_result",
          "data": {
            "text/plain": [
              "<tf.Tensor: shape=(2, 2), dtype=float32, numpy=\n",
              "array([[5., 5.],\n",
              "       [5., 5.]], dtype=float32)>"
            ]
          },
          "metadata": {},
          "execution_count": 13
        }
      ]
    },
    {
      "cell_type": "code",
      "metadata": {
        "id": "KGTDnOVHuUTF",
        "colab": {
          "base_uri": "https://localhost:8080/"
        },
        "outputId": "c2b3dfa8-8521-42a2-d30c-27139c54eba0"
      },
      "source": [
        "matrix1 = tf.constant([[3., 3.]])\n",
        "matrix2 = tf.constant([[2., 2.]])\n",
        "matrix1+matrix2"
      ],
      "execution_count": 14,
      "outputs": [
        {
          "output_type": "execute_result",
          "data": {
            "text/plain": [
              "<tf.Tensor: shape=(1, 2), dtype=float32, numpy=array([[5., 5.]], dtype=float32)>"
            ]
          },
          "metadata": {},
          "execution_count": 14
        }
      ]
    },
    {
      "cell_type": "markdown",
      "metadata": {
        "id": "UbEwRHWTuUTQ"
      },
      "source": [
        "## Random values for variable initializations"
      ]
    },
    {
      "cell_type": "code",
      "metadata": {
        "scrolled": true,
        "id": "YW4GhFN7uUTa",
        "colab": {
          "base_uri": "https://localhost:8080/"
        },
        "outputId": "2f6f822d-f117-4f76-af82-f71e20701bc9"
      },
      "source": [
        "tf.random.normal([3], mean=0., stddev=1.0)"
      ],
      "execution_count": 15,
      "outputs": [
        {
          "output_type": "execute_result",
          "data": {
            "text/plain": [
              "<tf.Tensor: shape=(3,), dtype=float32, numpy=array([-0.08859803,  0.33778438, -0.11195498], dtype=float32)>"
            ]
          },
          "metadata": {},
          "execution_count": 15
        }
      ]
    },
    {
      "cell_type": "code",
      "metadata": {
        "id": "Ec-2cLsPuUT4",
        "colab": {
          "base_uri": "https://localhost:8080/"
        },
        "outputId": "0c19d5ec-50a1-47c3-9fe8-b16fb8e3b968"
      },
      "source": [
        "tf.random.uniform([2])  # For floats, the default range is [0, 1).\n",
        "                        # for ints, at least maxval must be specified explicitly."
      ],
      "execution_count": 16,
      "outputs": [
        {
          "output_type": "execute_result",
          "data": {
            "text/plain": [
              "<tf.Tensor: shape=(2,), dtype=float32, numpy=array([0.36187947, 0.22672331], dtype=float32)>"
            ]
          },
          "metadata": {},
          "execution_count": 16
        }
      ]
    },
    {
      "cell_type": "code",
      "metadata": {
        "id": "gQ-TK5hzuUUa",
        "colab": {
          "base_uri": "https://localhost:8080/"
        },
        "outputId": "40627a45-cb14-420c-a8c4-fdee4b33a0b0"
      },
      "source": [
        "tf.random.set_seed(42)\n",
        "tf.random.uniform([2, 3]), tf.random.uniform((2, 3))   # both work, but use tensors or arrays"
      ],
      "execution_count": 88,
      "outputs": [
        {
          "output_type": "execute_result",
          "data": {
            "text/plain": [
              "<tf.Tensor: shape=(2, 3), dtype=float32, numpy=\n",
              "array([[0.6645621 , 0.44100678, 0.3528825 ],\n",
              "       [0.46448255, 0.03366041, 0.68467236]], dtype=float32)>"
            ]
          },
          "metadata": {},
          "execution_count": 88
        }
      ]
    },
    {
      "cell_type": "code",
      "metadata": {
        "id": "vFB-z692magM",
        "colab": {
          "base_uri": "https://localhost:8080/"
        },
        "outputId": "ab0c5de4-1444-4b4f-a03a-bfd431e147e2"
      },
      "source": [
        "np.random.uniform(size=(2,3)), np.random.uniform(size=[2,3])  # both work, but use tuples"
      ],
      "execution_count": 91,
      "outputs": [
        {
          "output_type": "execute_result",
          "data": {
            "text/plain": [
              "(array([[0.15090669, 0.05524135, 0.71803719],\n",
              "        [0.29231735, 0.19877387, 0.83136392]]),\n",
              " array([[0.56799112, 0.08233975, 0.54499857],\n",
              "        [0.15895874, 0.67676239, 0.11847226]]))"
            ]
          },
          "metadata": {},
          "execution_count": 91
        }
      ]
    },
    {
      "cell_type": "code",
      "metadata": {
        "colab": {
          "base_uri": "https://localhost:8080/"
        },
        "id": "DJXWi97lNSEt",
        "outputId": "37e4e75e-3ee9-424a-aa64-dae23c68bf16"
      },
      "source": [
        "tf.round(tf.random.uniform([2, 3]))  # nearest integer"
      ],
      "execution_count": 19,
      "outputs": [
        {
          "output_type": "execute_result",
          "data": {
            "text/plain": [
              "<tf.Tensor: shape=(2, 3), dtype=float32, numpy=\n",
              "array([[1., 0., 0.],\n",
              "       [0., 1., 1.]], dtype=float32)>"
            ]
          },
          "metadata": {},
          "execution_count": 19
        }
      ]
    },
    {
      "cell_type": "code",
      "metadata": {
        "colab": {
          "base_uri": "https://localhost:8080/"
        },
        "id": "b4T6Ag_5P1bw",
        "outputId": "b82a3c0b-97f4-4b46-d4f1-87acc1ca59d1"
      },
      "source": [
        "np.round(tf.random.uniform([2, 3]), 3)   # number of fractional digits"
      ],
      "execution_count": 20,
      "outputs": [
        {
          "output_type": "execute_result",
          "data": {
            "text/plain": [
              "array([[0.505, 0.946, 0.265],\n",
              "       [0.891, 0.679, 0.141]], dtype=float32)"
            ]
          },
          "metadata": {},
          "execution_count": 20
        }
      ]
    },
    {
      "cell_type": "markdown",
      "metadata": {
        "id": "CFWtbNXauUUv"
      },
      "source": [
        "## Reduce Mean/Sum"
      ]
    },
    {
      "cell_type": "code",
      "metadata": {
        "id": "sHyRL7AonNpM",
        "colab": {
          "base_uri": "https://localhost:8080/"
        },
        "outputId": "ba3d00f7-36b0-49f3-e4a5-b8b767024ee8"
      },
      "source": [
        "np.array([1,2,3]).sum()     # pytorch also uses sum()"
      ],
      "execution_count": 21,
      "outputs": [
        {
          "output_type": "execute_result",
          "data": {
            "text/plain": [
              "6"
            ]
          },
          "metadata": {},
          "execution_count": 21
        }
      ]
    },
    {
      "cell_type": "code",
      "metadata": {
        "id": "ufV2BHSKuUUy",
        "colab": {
          "base_uri": "https://localhost:8080/"
        },
        "outputId": "293b8062-69d9-4e13-bf12-e5e35d80ac0e"
      },
      "source": [
        "tf.reduce_sum([1., 2.], axis=0)"
      ],
      "execution_count": 22,
      "outputs": [
        {
          "output_type": "execute_result",
          "data": {
            "text/plain": [
              "<tf.Tensor: shape=(), dtype=float32, numpy=3.0>"
            ]
          },
          "metadata": {},
          "execution_count": 22
        }
      ]
    },
    {
      "cell_type": "markdown",
      "source": [
        "- tf.constant: immutable tensors\n",
        "- tf.Variable: mutable tensors, can be modified using\n",
        "  - \"assign()\", or\n",
        "  - gradient-baed optiization algorithms"
      ],
      "metadata": {
        "id": "qBVIXl9Psgus"
      }
    },
    {
      "cell_type": "code",
      "metadata": {
        "id": "TXYIK7zHuUVK",
        "colab": {
          "base_uri": "https://localhost:8080/"
        },
        "outputId": "64f9e6d7-5d66-45fa-cf7f-0bc8a14c8b8c"
      },
      "source": [
        "x = [[1., 2.],\n",
        "     [3., 4.]]\n",
        "\n",
        "print(tf.constant(x))\n",
        "print(tf.reduce_mean(x))\n",
        "print(tf.reduce_mean(x, axis=0))\n",
        "print(tf.reduce_mean(x, axis=1))"
      ],
      "execution_count": 100,
      "outputs": [
        {
          "output_type": "stream",
          "name": "stdout",
          "text": [
            "tf.Tensor(\n",
            "[[1. 2.]\n",
            " [3. 4.]], shape=(2, 2), dtype=float32)\n",
            "tf.Tensor(2.5, shape=(), dtype=float32)\n",
            "tf.Tensor([2. 3.], shape=(2,), dtype=float32)\n",
            "tf.Tensor([1.5 3.5], shape=(2,), dtype=float32)\n"
          ]
        }
      ]
    },
    {
      "cell_type": "code",
      "source": [
        "xc = tf.constant(x)\n",
        "xV = tf.Variable(x)\n",
        "try:\n",
        "    xc[0] = 7\n",
        "except:\n",
        "    print(\"Error: can not be assigned.\")\n",
        "\n",
        "try:\n",
        "    xV[0] = 7\n",
        "except:\n",
        "    print(\"Error: use assign().\")\n",
        "\n",
        "xV[0,0].assign(7)\n",
        "xV"
      ],
      "metadata": {
        "colab": {
          "base_uri": "https://localhost:8080/"
        },
        "id": "_nGgFvEVuIy_",
        "outputId": "927992c8-97e4-451f-997e-f0c317b2edf3"
      },
      "execution_count": 101,
      "outputs": [
        {
          "output_type": "stream",
          "name": "stdout",
          "text": [
            "Error: can not be assigned.\n",
            "Error: use assign().\n"
          ]
        },
        {
          "output_type": "execute_result",
          "data": {
            "text/plain": [
              "<tf.Variable 'Variable:0' shape=(2, 2) dtype=float32, numpy=\n",
              "array([[7., 2.],\n",
              "       [3., 4.]], dtype=float32)>"
            ]
          },
          "metadata": {},
          "execution_count": 101
        }
      ]
    },
    {
      "cell_type": "code",
      "metadata": {
        "id": "CGoKlpYWuUXF",
        "colab": {
          "base_uri": "https://localhost:8080/"
        },
        "outputId": "2d89de24-25ec-4fef-8109-0cef632b682f"
      },
      "source": [
        "tf.reduce_mean(x, axis=-1)  # 가장 안쪽 (last rank) axis"
      ],
      "execution_count": 24,
      "outputs": [
        {
          "output_type": "execute_result",
          "data": {
            "text/plain": [
              "<tf.Tensor: shape=(2,), dtype=float32, numpy=array([1.5, 3.5], dtype=float32)>"
            ]
          },
          "metadata": {},
          "execution_count": 24
        }
      ]
    },
    {
      "cell_type": "code",
      "metadata": {
        "id": "OKIq6YEeuUXU",
        "colab": {
          "base_uri": "https://localhost:8080/"
        },
        "outputId": "edcce1ba-d2af-4016-be47-72eefae65b16"
      },
      "source": [
        "tf.reduce_sum(x) , tf.reduce_sum(x, axis=0), tf.reduce_sum(x, axis=-1), tf.reduce_mean(tf.reduce_sum(x, axis=-1))"
      ],
      "execution_count": 25,
      "outputs": [
        {
          "output_type": "execute_result",
          "data": {
            "text/plain": [
              "(<tf.Tensor: shape=(), dtype=float32, numpy=10.0>,\n",
              " <tf.Tensor: shape=(2,), dtype=float32, numpy=array([4., 6.], dtype=float32)>,\n",
              " <tf.Tensor: shape=(2,), dtype=float32, numpy=array([3., 7.], dtype=float32)>,\n",
              " <tf.Tensor: shape=(), dtype=float32, numpy=5.0>)"
            ]
          },
          "metadata": {},
          "execution_count": 25
        }
      ]
    },
    {
      "cell_type": "markdown",
      "metadata": {
        "id": "3ZTq9GGiuUY3"
      },
      "source": [
        "## Argmax with axis"
      ]
    },
    {
      "cell_type": "code",
      "metadata": {
        "id": "UEE5WMQquUY6",
        "colab": {
          "base_uri": "https://localhost:8080/"
        },
        "outputId": "940906ca-a3f5-4ad7-9c98-e11e0c4dcb33"
      },
      "source": [
        "x = [[0, 1, 2],\n",
        "     [2, 1, 0]]\n",
        "tf.argmax(x, axis=0)"
      ],
      "execution_count": 26,
      "outputs": [
        {
          "output_type": "execute_result",
          "data": {
            "text/plain": [
              "<tf.Tensor: shape=(3,), dtype=int64, numpy=array([1, 0, 0])>"
            ]
          },
          "metadata": {},
          "execution_count": 26
        }
      ]
    },
    {
      "cell_type": "code",
      "metadata": {
        "id": "OtxjDfTBuUZK",
        "colab": {
          "base_uri": "https://localhost:8080/"
        },
        "outputId": "f01f7672-214b-45a0-b6c0-fa9f211c3323"
      },
      "source": [
        "tf.argmax(x, axis=1)"
      ],
      "execution_count": 27,
      "outputs": [
        {
          "output_type": "execute_result",
          "data": {
            "text/plain": [
              "<tf.Tensor: shape=(2,), dtype=int64, numpy=array([2, 0])>"
            ]
          },
          "metadata": {},
          "execution_count": 27
        }
      ]
    },
    {
      "cell_type": "code",
      "metadata": {
        "id": "Wd1VxtyduUZs",
        "colab": {
          "base_uri": "https://localhost:8080/"
        },
        "outputId": "ae0ec831-6f70-47fa-c456-7cb82d651ad7"
      },
      "source": [
        "tf.argmax(x, axis=-1)"
      ],
      "execution_count": 28,
      "outputs": [
        {
          "output_type": "execute_result",
          "data": {
            "text/plain": [
              "<tf.Tensor: shape=(2,), dtype=int64, numpy=array([2, 0])>"
            ]
          },
          "metadata": {},
          "execution_count": 28
        }
      ]
    },
    {
      "cell_type": "markdown",
      "metadata": {
        "id": "b9AzA1-3uUZ7"
      },
      "source": [
        "## Reshape, squeeze, expand_dims"
      ]
    },
    {
      "cell_type": "code",
      "metadata": {
        "id": "CZQOF6OAuUZ9",
        "colab": {
          "base_uri": "https://localhost:8080/"
        },
        "outputId": "c06a9435-b17b-44d8-be8d-d0c0a215ea9b"
      },
      "source": [
        "t = np.array([[[0, 1, 2],\n",
        "               [3, 4, 5]],\n",
        "\n",
        "              [[6, 7, 8],\n",
        "               [9, 10, 11]]])\n",
        "t.shape"
      ],
      "execution_count": 29,
      "outputs": [
        {
          "output_type": "execute_result",
          "data": {
            "text/plain": [
              "(2, 2, 3)"
            ]
          },
          "metadata": {},
          "execution_count": 29
        }
      ]
    },
    {
      "cell_type": "code",
      "metadata": {
        "id": "VYHELFHEuUaH",
        "colab": {
          "base_uri": "https://localhost:8080/"
        },
        "outputId": "dd856931-db55-4817-e62c-1cc8d266283c"
      },
      "source": [
        "tf.reshape(t, shape=[-1, 3])"
      ],
      "execution_count": 30,
      "outputs": [
        {
          "output_type": "execute_result",
          "data": {
            "text/plain": [
              "<tf.Tensor: shape=(4, 3), dtype=int64, numpy=\n",
              "array([[ 0,  1,  2],\n",
              "       [ 3,  4,  5],\n",
              "       [ 6,  7,  8],\n",
              "       [ 9, 10, 11]])>"
            ]
          },
          "metadata": {},
          "execution_count": 30
        }
      ]
    },
    {
      "cell_type": "code",
      "metadata": {
        "id": "hUi-1GFEuUac",
        "colab": {
          "base_uri": "https://localhost:8080/"
        },
        "outputId": "65257585-4934-410a-85c0-2c3099c9d3f6"
      },
      "source": [
        "tf.reshape(t, shape=[-1, 1, 3])"
      ],
      "execution_count": 31,
      "outputs": [
        {
          "output_type": "execute_result",
          "data": {
            "text/plain": [
              "<tf.Tensor: shape=(4, 1, 3), dtype=int64, numpy=\n",
              "array([[[ 0,  1,  2]],\n",
              "\n",
              "       [[ 3,  4,  5]],\n",
              "\n",
              "       [[ 6,  7,  8]],\n",
              "\n",
              "       [[ 9, 10, 11]]])>"
            ]
          },
          "metadata": {},
          "execution_count": 31
        }
      ]
    },
    {
      "cell_type": "code",
      "metadata": {
        "id": "h0BZ0ZfFuUa0",
        "colab": {
          "base_uri": "https://localhost:8080/"
        },
        "outputId": "0430319a-8505-4a17-a69e-bc1c03265c50"
      },
      "source": [
        "t = [[0],\n",
        "     [1],\n",
        "     [2]]\n",
        "print(tf.shape(t))\n",
        "tf.squeeze(t)"
      ],
      "execution_count": 32,
      "outputs": [
        {
          "output_type": "stream",
          "name": "stdout",
          "text": [
            "tf.Tensor([3 1], shape=(2,), dtype=int32)\n"
          ]
        },
        {
          "output_type": "execute_result",
          "data": {
            "text/plain": [
              "<tf.Tensor: shape=(3,), dtype=int32, numpy=array([0, 1, 2], dtype=int32)>"
            ]
          },
          "metadata": {},
          "execution_count": 32
        }
      ]
    },
    {
      "cell_type": "code",
      "metadata": {
        "id": "FRoHWAHxuUbB",
        "colab": {
          "base_uri": "https://localhost:8080/"
        },
        "outputId": "539ddf5c-572b-4a94-dd12-1e4b95c78cd8"
      },
      "source": [
        "tf.expand_dims([0, 1, 2], 0), tf.expand_dims([0, 1, 2], 1)  # axis 추가"
      ],
      "execution_count": 33,
      "outputs": [
        {
          "output_type": "execute_result",
          "data": {
            "text/plain": [
              "(<tf.Tensor: shape=(1, 3), dtype=int32, numpy=array([[0, 1, 2]], dtype=int32)>,\n",
              " <tf.Tensor: shape=(3, 1), dtype=int32, numpy=\n",
              " array([[0],\n",
              "        [1],\n",
              "        [2]], dtype=int32)>)"
            ]
          },
          "metadata": {},
          "execution_count": 33
        }
      ]
    },
    {
      "cell_type": "markdown",
      "metadata": {
        "id": "eRi7FHbsuUbb"
      },
      "source": [
        "## One hot"
      ]
    },
    {
      "cell_type": "code",
      "metadata": {
        "id": "M8_xkEN5uUbd",
        "colab": {
          "base_uri": "https://localhost:8080/"
        },
        "outputId": "d5b09ae8-bff4-4ed2-de53-920cf417b3d2"
      },
      "source": [
        "tf.one_hot([[0], [1], [2], [0]], depth=3) # rank 가 하나 늘어남"
      ],
      "execution_count": 34,
      "outputs": [
        {
          "output_type": "execute_result",
          "data": {
            "text/plain": [
              "<tf.Tensor: shape=(4, 1, 3), dtype=float32, numpy=\n",
              "array([[[1., 0., 0.]],\n",
              "\n",
              "       [[0., 1., 0.]],\n",
              "\n",
              "       [[0., 0., 1.]],\n",
              "\n",
              "       [[1., 0., 0.]]], dtype=float32)>"
            ]
          },
          "metadata": {},
          "execution_count": 34
        }
      ]
    },
    {
      "cell_type": "code",
      "source": [
        "tf.one_hot([0, 1, 2, 0], depth=3)"
      ],
      "metadata": {
        "colab": {
          "base_uri": "https://localhost:8080/"
        },
        "id": "JJSTUmWQwOHg",
        "outputId": "788eca38-db72-4a50-b0f6-268ee6dccce5"
      },
      "execution_count": 102,
      "outputs": [
        {
          "output_type": "execute_result",
          "data": {
            "text/plain": [
              "<tf.Tensor: shape=(4, 3), dtype=float32, numpy=\n",
              "array([[1., 0., 0.],\n",
              "       [0., 1., 0.],\n",
              "       [0., 0., 1.],\n",
              "       [1., 0., 0.]], dtype=float32)>"
            ]
          },
          "metadata": {},
          "execution_count": 102
        }
      ]
    },
    {
      "cell_type": "code",
      "metadata": {
        "id": "HCudlqhouUbp",
        "colab": {
          "base_uri": "https://localhost:8080/"
        },
        "outputId": "03f77a10-8ec1-4d00-9f62-296d5f5ce9b4"
      },
      "source": [
        "t = tf.one_hot([[0], [1], [2], [0]], depth=3)\n",
        "tf.reshape(t, shape=[-1, 3])"
      ],
      "execution_count": 35,
      "outputs": [
        {
          "output_type": "execute_result",
          "data": {
            "text/plain": [
              "<tf.Tensor: shape=(4, 3), dtype=float32, numpy=\n",
              "array([[1., 0., 0.],\n",
              "       [0., 1., 0.],\n",
              "       [0., 0., 1.],\n",
              "       [1., 0., 0.]], dtype=float32)>"
            ]
          },
          "metadata": {},
          "execution_count": 35
        }
      ]
    },
    {
      "cell_type": "markdown",
      "metadata": {
        "id": "jOSn1rj8uUb0"
      },
      "source": [
        "## Casting"
      ]
    },
    {
      "cell_type": "code",
      "metadata": {
        "id": "ca8SRZpIuUb2",
        "colab": {
          "base_uri": "https://localhost:8080/"
        },
        "outputId": "85e5eb9d-e6fa-4383-efa1-d2f9f3a81167"
      },
      "source": [
        "tf.cast([1.8, 2.2, 3.3, 4.9], tf.int32)   # type 변경"
      ],
      "execution_count": 36,
      "outputs": [
        {
          "output_type": "execute_result",
          "data": {
            "text/plain": [
              "<tf.Tensor: shape=(4,), dtype=int32, numpy=array([1, 2, 3, 4], dtype=int32)>"
            ]
          },
          "metadata": {},
          "execution_count": 36
        }
      ]
    },
    {
      "cell_type": "code",
      "metadata": {
        "id": "BYNzKa6cuUcu",
        "colab": {
          "base_uri": "https://localhost:8080/"
        },
        "outputId": "ccfce94f-c25c-4477-f133-0f199056ee9a"
      },
      "source": [
        "print([True, False, 1 == 1, 0 == 1])\n",
        "tf.cast([True, False, 1 == 1, 0 == 1], tf.int32)  # True->1, False->0"
      ],
      "execution_count": 37,
      "outputs": [
        {
          "output_type": "stream",
          "name": "stdout",
          "text": [
            "[True, False, True, False]\n"
          ]
        },
        {
          "output_type": "execute_result",
          "data": {
            "text/plain": [
              "<tf.Tensor: shape=(4,), dtype=int32, numpy=array([1, 0, 1, 0], dtype=int32)>"
            ]
          },
          "metadata": {},
          "execution_count": 37
        }
      ]
    },
    {
      "cell_type": "markdown",
      "metadata": {
        "id": "uGLGK7a6uUc8"
      },
      "source": [
        "## Stack"
      ]
    },
    {
      "cell_type": "code",
      "metadata": {
        "id": "54VMlJsAuUdA",
        "colab": {
          "base_uri": "https://localhost:8080/"
        },
        "outputId": "69bb698c-5a94-4602-ccb5-8a7d0ec29910"
      },
      "source": [
        "x = [1, 4]\n",
        "y = [2, 5]\n",
        "z = [3, 6]\n",
        "\n",
        "# Pack along first dim.\n",
        "tf.stack([x, y, z], axis=0)"
      ],
      "execution_count": 38,
      "outputs": [
        {
          "output_type": "execute_result",
          "data": {
            "text/plain": [
              "<tf.Tensor: shape=(3, 2), dtype=int32, numpy=\n",
              "array([[1, 4],\n",
              "       [2, 5],\n",
              "       [3, 6]], dtype=int32)>"
            ]
          },
          "metadata": {},
          "execution_count": 38
        }
      ]
    },
    {
      "cell_type": "code",
      "metadata": {
        "id": "JHoamuz4uUdS",
        "colab": {
          "base_uri": "https://localhost:8080/"
        },
        "outputId": "81af7cae-2fdf-45a9-e309-929b5d97ee71"
      },
      "source": [
        "tf.stack([x, y, z], axis=1)"
      ],
      "execution_count": 39,
      "outputs": [
        {
          "output_type": "execute_result",
          "data": {
            "text/plain": [
              "<tf.Tensor: shape=(2, 3), dtype=int32, numpy=\n",
              "array([[1, 2, 3],\n",
              "       [4, 5, 6]], dtype=int32)>"
            ]
          },
          "metadata": {},
          "execution_count": 39
        }
      ]
    },
    {
      "cell_type": "markdown",
      "metadata": {
        "id": "vWjqamDOuUdb"
      },
      "source": [
        "## Ones like and Zeros like"
      ]
    },
    {
      "cell_type": "code",
      "metadata": {
        "id": "V-TY_87KuUde",
        "colab": {
          "base_uri": "https://localhost:8080/"
        },
        "outputId": "eb5bff58-d00d-4f59-ab67-260676e53fde"
      },
      "source": [
        "x = [[0, 1, 2],\n",
        "     [2, 1, 0]]\n",
        "\n",
        "tf.ones_like(x)  # 모양이 같게"
      ],
      "execution_count": 40,
      "outputs": [
        {
          "output_type": "execute_result",
          "data": {
            "text/plain": [
              "<tf.Tensor: shape=(2, 3), dtype=int32, numpy=\n",
              "array([[1, 1, 1],\n",
              "       [1, 1, 1]], dtype=int32)>"
            ]
          },
          "metadata": {},
          "execution_count": 40
        }
      ]
    },
    {
      "cell_type": "code",
      "metadata": {
        "id": "D3p2kNXOuUd2",
        "colab": {
          "base_uri": "https://localhost:8080/"
        },
        "outputId": "2315d334-745c-4e15-c19a-834f3456177d"
      },
      "source": [
        "tf.zeros_like(x)"
      ],
      "execution_count": 41,
      "outputs": [
        {
          "output_type": "execute_result",
          "data": {
            "text/plain": [
              "<tf.Tensor: shape=(2, 3), dtype=int32, numpy=\n",
              "array([[0, 0, 0],\n",
              "       [0, 0, 0]], dtype=int32)>"
            ]
          },
          "metadata": {},
          "execution_count": 41
        }
      ]
    },
    {
      "cell_type": "markdown",
      "metadata": {
        "id": "fh7my9fcuUeI"
      },
      "source": [
        "## Zip\n"
      ]
    },
    {
      "cell_type": "code",
      "metadata": {
        "id": "MLXDku7huUeK",
        "colab": {
          "base_uri": "https://localhost:8080/"
        },
        "outputId": "8255b7cc-a07b-4b99-ad84-393eb609178d"
      },
      "source": [
        "for x, y in zip([1, 2, 3], [4, 5, 6]):   # zip is iterable\n",
        "    print(x, y)"
      ],
      "execution_count": 42,
      "outputs": [
        {
          "output_type": "stream",
          "name": "stdout",
          "text": [
            "1 4\n",
            "2 5\n",
            "3 6\n"
          ]
        }
      ]
    },
    {
      "cell_type": "code",
      "metadata": {
        "id": "xrzxHnoTuUea",
        "colab": {
          "base_uri": "https://localhost:8080/"
        },
        "outputId": "3cf203c1-1ded-4e11-bff1-b06bf5441b20"
      },
      "source": [
        "for x, y, z in zip([1, 2, 3], [4, 5, 6], [7, 8, 9]):\n",
        "    print(x, y, z)"
      ],
      "execution_count": 43,
      "outputs": [
        {
          "output_type": "stream",
          "name": "stdout",
          "text": [
            "1 4 7\n",
            "2 5 8\n",
            "3 6 9\n"
          ]
        }
      ]
    },
    {
      "cell_type": "markdown",
      "metadata": {
        "id": "mg5cc3eIuUen"
      },
      "source": [
        "## Transpose"
      ]
    },
    {
      "cell_type": "code",
      "metadata": {
        "id": "Z66gQZljuUet",
        "colab": {
          "base_uri": "https://localhost:8080/"
        },
        "outputId": "b1a369fe-c789-41d0-97fa-89c82d8ef028"
      },
      "source": [
        "t = np.array([[[0, 1, 2],\n",
        "               [3, 4, 5]],\n",
        "\n",
        "              [[6, 7, 8],\n",
        "               [9, 10, 11]]])\n",
        "print(t.shape)\n",
        "print(t)"
      ],
      "execution_count": 105,
      "outputs": [
        {
          "output_type": "stream",
          "name": "stdout",
          "text": [
            "(2, 2, 3)\n",
            "[[[ 0  1  2]\n",
            "  [ 3  4  5]]\n",
            "\n",
            " [[ 6  7  8]\n",
            "  [ 9 10 11]]]\n"
          ]
        }
      ]
    },
    {
      "cell_type": "code",
      "metadata": {
        "id": "1y9P7oUOuUfF",
        "colab": {
          "base_uri": "https://localhost:8080/"
        },
        "outputId": "3ebf7f00-6f55-4204-a8e2-7f016280beb3"
      },
      "source": [
        "t1 = tf.transpose(t, [1, 0, 2])\n",
        "print(t1.shape)\n",
        "print(t1)"
      ],
      "execution_count": 106,
      "outputs": [
        {
          "output_type": "stream",
          "name": "stdout",
          "text": [
            "(2, 2, 3)\n",
            "tf.Tensor(\n",
            "[[[ 0  1  2]\n",
            "  [ 6  7  8]]\n",
            "\n",
            " [[ 3  4  5]\n",
            "  [ 9 10 11]]], shape=(2, 2, 3), dtype=int64)\n"
          ]
        }
      ]
    },
    {
      "cell_type": "code",
      "metadata": {
        "id": "nBuqrKR2uUfO",
        "colab": {
          "base_uri": "https://localhost:8080/"
        },
        "outputId": "c8398c73-84ce-479f-d8c9-9d642251b06e"
      },
      "source": [
        "t = tf.transpose(t1, [1, 0, 2])\n",
        "pp.pprint(t.shape)\n",
        "pp.pprint(t)"
      ],
      "execution_count": 46,
      "outputs": [
        {
          "output_type": "stream",
          "name": "stdout",
          "text": [
            "TensorShape([2, 2, 3])\n",
            "<tf.Tensor: shape=(2, 2, 3), dtype=int64, numpy=\n",
            "array([[[ 0,  1,  2],\n",
            "        [ 3,  4,  5]],\n",
            "\n",
            "       [[ 6,  7,  8],\n",
            "        [ 9, 10, 11]]])>\n"
          ]
        }
      ]
    },
    {
      "cell_type": "code",
      "metadata": {
        "id": "STjf_wnsuUfg",
        "colab": {
          "base_uri": "https://localhost:8080/"
        },
        "outputId": "8e73b335-edbf-4862-ded4-3970701423f3"
      },
      "source": [
        "t2 = tf.transpose(t, [1, 2, 0])\n",
        "pp.pprint(t2.shape)\n",
        "pp.pprint(t2)"
      ],
      "execution_count": 47,
      "outputs": [
        {
          "output_type": "stream",
          "name": "stdout",
          "text": [
            "TensorShape([2, 3, 2])\n",
            "<tf.Tensor: shape=(2, 3, 2), dtype=int64, numpy=\n",
            "array([[[ 0,  6],\n",
            "        [ 1,  7],\n",
            "        [ 2,  8]],\n",
            "\n",
            "       [[ 3,  9],\n",
            "        [ 4, 10],\n",
            "        [ 5, 11]]])>\n"
          ]
        }
      ]
    },
    {
      "cell_type": "code",
      "metadata": {
        "id": "P7nCaIEmuUfu",
        "colab": {
          "base_uri": "https://localhost:8080/"
        },
        "outputId": "f4417956-2e05-4005-95c6-690a5d60ed7a"
      },
      "source": [
        "t = tf.transpose(t2, [2, 0, 1])\n",
        "pp.pprint(t.shape)\n",
        "pp.pprint(t)"
      ],
      "execution_count": 48,
      "outputs": [
        {
          "output_type": "stream",
          "name": "stdout",
          "text": [
            "TensorShape([2, 2, 3])\n",
            "<tf.Tensor: shape=(2, 2, 3), dtype=int64, numpy=\n",
            "array([[[ 0,  1,  2],\n",
            "        [ 3,  4,  5]],\n",
            "\n",
            "       [[ 6,  7,  8],\n",
            "        [ 9, 10, 11]]])>\n"
          ]
        }
      ]
    },
    {
      "cell_type": "markdown",
      "metadata": {
        "id": "7HqP9RPzPK7F"
      },
      "source": [
        "## Numpy and Tensorflow"
      ]
    },
    {
      "cell_type": "code",
      "metadata": {
        "id": "FDS19BTNPmAQ"
      },
      "source": [
        "import numpy as np\n",
        "import tensorflow as tf"
      ],
      "execution_count": 49,
      "outputs": []
    },
    {
      "cell_type": "code",
      "metadata": {
        "id": "ZUMiV3YJPtgw",
        "colab": {
          "base_uri": "https://localhost:8080/",
          "height": 36
        },
        "outputId": "3e39ff9f-e4a3-416d-8eda-a1706fea5315"
      },
      "source": [
        "tf.__version__"
      ],
      "execution_count": 50,
      "outputs": [
        {
          "output_type": "execute_result",
          "data": {
            "text/plain": [
              "'2.12.0'"
            ],
            "application/vnd.google.colaboratory.intrinsic+json": {
              "type": "string"
            }
          },
          "metadata": {},
          "execution_count": 50
        }
      ]
    },
    {
      "cell_type": "code",
      "metadata": {
        "id": "CkvGoygzPpaY",
        "colab": {
          "base_uri": "https://localhost:8080/"
        },
        "outputId": "8d431aaa-3cd2-4fa3-80f0-701edf5001e4"
      },
      "source": [
        "print(tf.random.normal([2,5]).numpy())\n",
        "print(np.random.normal(0, 1, (2,5)))"
      ],
      "execution_count": 113,
      "outputs": [
        {
          "output_type": "stream",
          "name": "stdout",
          "text": [
            "[[-0.7335256  -1.6052662   0.95487064  0.19474924 -0.57441366]\n",
            " [ 1.7011194  -1.2051107  -0.12188654  0.44361427 -0.74245924]]\n",
            "[[-1.0922299  -0.25002744 -0.9822943   1.03126909  0.49133378]\n",
            " [-0.4466466  -0.80636008  0.13126776 -1.21256024  0.15999085]]\n"
          ]
        }
      ]
    },
    {
      "cell_type": "code",
      "source": [
        "print(np.random.normal(size=(5)))"
      ],
      "metadata": {
        "colab": {
          "base_uri": "https://localhost:8080/"
        },
        "id": "0xDI9glkya8W",
        "outputId": "9bd1323a-e4b8-45c4-b59e-69fdd85cba3f"
      },
      "execution_count": 114,
      "outputs": [
        {
          "output_type": "stream",
          "name": "stdout",
          "text": [
            "[-0.75522304  0.34989599  0.97754176 -0.13858525  0.10385631]\n"
          ]
        }
      ]
    },
    {
      "cell_type": "code",
      "metadata": {
        "id": "CvFkXJbqPz4F",
        "colab": {
          "base_uri": "https://localhost:8080/"
        },
        "outputId": "aef26e1e-d700-42b2-b342-e2024bd289fd"
      },
      "source": [
        "np.random.seed(17)\n",
        "tf.random.set_seed(17)\n",
        "print(tf.random.normal([2,3]))\n",
        "print(np.random.randn(2,3))"
      ],
      "execution_count": 108,
      "outputs": [
        {
          "output_type": "stream",
          "name": "stdout",
          "text": [
            "tf.Tensor(\n",
            "[[ 0.01778085  2.3094206  -0.9550922 ]\n",
            " [-1.7634274   0.4548187  -0.1849394 ]], shape=(2, 3), dtype=float32)\n",
            "[[ 0.27626589 -1.85462808  0.62390111]\n",
            " [ 1.14531129  1.03719047  1.88663893]]\n"
          ]
        }
      ]
    },
    {
      "cell_type": "code",
      "metadata": {
        "id": "LWJh6pIbP8Md",
        "colab": {
          "base_uri": "https://localhost:8080/"
        },
        "outputId": "df35595c-2d90-4b18-f2f3-0350a0b38726"
      },
      "source": [
        "np.ones((2,3))"
      ],
      "execution_count": 53,
      "outputs": [
        {
          "output_type": "execute_result",
          "data": {
            "text/plain": [
              "array([[1., 1., 1.],\n",
              "       [1., 1., 1.]])"
            ]
          },
          "metadata": {},
          "execution_count": 53
        }
      ]
    },
    {
      "cell_type": "code",
      "metadata": {
        "id": "5Y0aKML1QCIA",
        "colab": {
          "base_uri": "https://localhost:8080/"
        },
        "outputId": "98aafc5c-3485-4381-b990-bd91d629ae13"
      },
      "source": [
        "tf.ones([2,3]), tf.ones((2,3))"
      ],
      "execution_count": 54,
      "outputs": [
        {
          "output_type": "execute_result",
          "data": {
            "text/plain": [
              "(<tf.Tensor: shape=(2, 3), dtype=float32, numpy=\n",
              " array([[1., 1., 1.],\n",
              "        [1., 1., 1.]], dtype=float32)>,\n",
              " <tf.Tensor: shape=(2, 3), dtype=float32, numpy=\n",
              " array([[1., 1., 1.],\n",
              "        [1., 1., 1.]], dtype=float32)>)"
            ]
          },
          "metadata": {},
          "execution_count": 54
        }
      ]
    },
    {
      "cell_type": "code",
      "metadata": {
        "id": "7cV7RJL8QEfc",
        "colab": {
          "base_uri": "https://localhost:8080/"
        },
        "outputId": "ee46a0fc-d88c-4531-c3e3-3722379116c8"
      },
      "source": [
        "tf.ones([2]).numpy()"
      ],
      "execution_count": 122,
      "outputs": [
        {
          "output_type": "execute_result",
          "data": {
            "text/plain": [
              "array([1., 1.], dtype=float32)"
            ]
          },
          "metadata": {},
          "execution_count": 122
        }
      ]
    },
    {
      "cell_type": "code",
      "metadata": {
        "id": "6HD3SbH0QFcz",
        "colab": {
          "base_uri": "https://localhost:8080/"
        },
        "outputId": "e2f5d5fe-b054-4ddd-8d0a-a62b9285dab4"
      },
      "source": [
        "tf.ones((2)), tf.ones((2,)), tf.ones([1,2])"
      ],
      "execution_count": 125,
      "outputs": [
        {
          "output_type": "execute_result",
          "data": {
            "text/plain": [
              "(<tf.Tensor: shape=(2,), dtype=float32, numpy=array([1., 1.], dtype=float32)>,\n",
              " <tf.Tensor: shape=(2,), dtype=float32, numpy=array([1., 1.], dtype=float32)>,\n",
              " <tf.Tensor: shape=(1, 2), dtype=float32, numpy=array([[1., 1.]], dtype=float32)>)"
            ]
          },
          "metadata": {},
          "execution_count": 125
        }
      ]
    },
    {
      "cell_type": "code",
      "metadata": {
        "id": "oSS5ULv-QGQC",
        "colab": {
          "base_uri": "https://localhost:8080/"
        },
        "outputId": "60539d15-664b-4466-ee48-6fc50fe44faf"
      },
      "source": [
        "tf.ones((1)).numpy(), np.ones(1)"
      ],
      "execution_count": 124,
      "outputs": [
        {
          "output_type": "execute_result",
          "data": {
            "text/plain": [
              "(array([1.], dtype=float32), array([1.]))"
            ]
          },
          "metadata": {},
          "execution_count": 124
        }
      ]
    },
    {
      "cell_type": "code",
      "metadata": {
        "id": "zngG4ywdQG_U",
        "colab": {
          "base_uri": "https://localhost:8080/"
        },
        "outputId": "40e2a27b-aefd-47a3-8f70-cc28bb7152f4"
      },
      "source": [
        "tf.constant(3, shape=(2,3))"
      ],
      "execution_count": 58,
      "outputs": [
        {
          "output_type": "execute_result",
          "data": {
            "text/plain": [
              "<tf.Tensor: shape=(2, 3), dtype=int32, numpy=\n",
              "array([[3, 3, 3],\n",
              "       [3, 3, 3]], dtype=int32)>"
            ]
          },
          "metadata": {},
          "execution_count": 58
        }
      ]
    },
    {
      "cell_type": "code",
      "metadata": {
        "id": "1oy0TekmQH5v",
        "colab": {
          "base_uri": "https://localhost:8080/"
        },
        "outputId": "ad727cd4-5ec2-470d-bb36-04aba31b233f"
      },
      "source": [
        "np.array([1,2,3,4]).reshape(2,2)  # method\n",
        "np.reshape([1,2,3,4], (2,2))      # numpy function"
      ],
      "execution_count": 59,
      "outputs": [
        {
          "output_type": "execute_result",
          "data": {
            "text/plain": [
              "array([[1, 2],\n",
              "       [3, 4]])"
            ]
          },
          "metadata": {},
          "execution_count": 59
        }
      ]
    },
    {
      "cell_type": "code",
      "metadata": {
        "id": "nz2MaL9sQJYg",
        "colab": {
          "base_uri": "https://localhost:8080/"
        },
        "outputId": "4d3d9584-16a5-4af2-82fb-efb408c8d39a"
      },
      "source": [
        "tf.constant([1,2,3,4], shape=[2,2])"
      ],
      "execution_count": 60,
      "outputs": [
        {
          "output_type": "execute_result",
          "data": {
            "text/plain": [
              "<tf.Tensor: shape=(2, 2), dtype=int32, numpy=\n",
              "array([[1, 2],\n",
              "       [3, 4]], dtype=int32)>"
            ]
          },
          "metadata": {},
          "execution_count": 60
        }
      ]
    },
    {
      "cell_type": "code",
      "metadata": {
        "id": "l39N8rThQKWh",
        "colab": {
          "base_uri": "https://localhost:8080/"
        },
        "outputId": "a77dd2e4-b8b8-47ad-9812-21f4e7caa710"
      },
      "source": [
        "t = tf.constant([1,2,3,4])\n",
        "tf.reshape(t, shape=[2,2])"
      ],
      "execution_count": 61,
      "outputs": [
        {
          "output_type": "execute_result",
          "data": {
            "text/plain": [
              "<tf.Tensor: shape=(2, 2), dtype=int32, numpy=\n",
              "array([[1, 2],\n",
              "       [3, 4]], dtype=int32)>"
            ]
          },
          "metadata": {},
          "execution_count": 61
        }
      ]
    },
    {
      "cell_type": "code",
      "metadata": {
        "id": "W_BX9Gn2QLNq",
        "colab": {
          "base_uri": "https://localhost:8080/"
        },
        "outputId": "a11ae691-28a7-42b4-a01a-1bf33a202a35"
      },
      "source": [
        "x = tf.constant([1,2,3,4], shape=[2,2])\n",
        "tf.zeros_like(x)"
      ],
      "execution_count": 62,
      "outputs": [
        {
          "output_type": "execute_result",
          "data": {
            "text/plain": [
              "<tf.Tensor: shape=(2, 2), dtype=int32, numpy=\n",
              "array([[0, 0],\n",
              "       [0, 0]], dtype=int32)>"
            ]
          },
          "metadata": {},
          "execution_count": 62
        }
      ]
    },
    {
      "cell_type": "code",
      "metadata": {
        "id": "FHVYiTW7QL6x",
        "colab": {
          "base_uri": "https://localhost:8080/"
        },
        "outputId": "d2ff5f5a-2089-4928-9e1b-22d7d9a8fea1"
      },
      "source": [
        "tf.fill([3,3], 6)"
      ],
      "execution_count": 63,
      "outputs": [
        {
          "output_type": "execute_result",
          "data": {
            "text/plain": [
              "<tf.Tensor: shape=(3, 3), dtype=int32, numpy=\n",
              "array([[6, 6, 6],\n",
              "       [6, 6, 6],\n",
              "       [6, 6, 6]], dtype=int32)>"
            ]
          },
          "metadata": {},
          "execution_count": 63
        }
      ]
    },
    {
      "cell_type": "markdown",
      "metadata": {
        "id": "mATcmk76QM6S"
      },
      "source": [
        "\n",
        "## Define and initializing variables\n"
      ]
    },
    {
      "cell_type": "code",
      "metadata": {
        "id": "--xvKTybQNpF",
        "colab": {
          "base_uri": "https://localhost:8080/"
        },
        "outputId": "7607bdf1-75ce-4577-b130-9f0e375251eb"
      },
      "source": [
        "a0 = tf.Variable([1,2,3,4], dtype = tf.float32)\n",
        "b = tf.constant(2, tf.float32)\n",
        "a0*b"
      ],
      "execution_count": 64,
      "outputs": [
        {
          "output_type": "execute_result",
          "data": {
            "text/plain": [
              "<tf.Tensor: shape=(4,), dtype=float32, numpy=array([2., 4., 6., 8.], dtype=float32)>"
            ]
          },
          "metadata": {},
          "execution_count": 64
        }
      ]
    },
    {
      "cell_type": "code",
      "metadata": {
        "id": "h_7FLFiIQQWF",
        "colab": {
          "base_uri": "https://localhost:8080/"
        },
        "outputId": "5f01c820-95ae-4ab2-a841-f088e41c7481"
      },
      "source": [
        "tf.multiply(a0, b) == a0 * b"
      ],
      "execution_count": 65,
      "outputs": [
        {
          "output_type": "execute_result",
          "data": {
            "text/plain": [
              "<tf.Tensor: shape=(4,), dtype=bool, numpy=array([ True,  True,  True,  True])>"
            ]
          },
          "metadata": {},
          "execution_count": 65
        }
      ]
    },
    {
      "cell_type": "code",
      "metadata": {
        "id": "RWyFfI17QRTJ",
        "colab": {
          "base_uri": "https://localhost:8080/"
        },
        "outputId": "285b8f69-c6ca-4ea9-8c5b-792645a4a410"
      },
      "source": [
        "A2 = tf.constant([[1,2],\n",
        "                  [3,4]])\n",
        "B2 = tf.constant([[5,6],\n",
        "                  [7,8]])\n",
        "A2 + B2, A2 * B2, tf.add(A2, B2), tf.multiply(A2, B2)  # element-wise"
      ],
      "execution_count": 128,
      "outputs": [
        {
          "output_type": "execute_result",
          "data": {
            "text/plain": [
              "(<tf.Tensor: shape=(2, 2), dtype=int32, numpy=\n",
              " array([[ 6,  8],\n",
              "        [10, 12]], dtype=int32)>,\n",
              " <tf.Tensor: shape=(2, 2), dtype=int32, numpy=\n",
              " array([[ 5, 12],\n",
              "        [21, 32]], dtype=int32)>,\n",
              " <tf.Tensor: shape=(2, 2), dtype=int32, numpy=\n",
              " array([[ 6,  8],\n",
              "        [10, 12]], dtype=int32)>,\n",
              " <tf.Tensor: shape=(2, 2), dtype=int32, numpy=\n",
              " array([[ 5, 12],\n",
              "        [21, 32]], dtype=int32)>)"
            ]
          },
          "metadata": {},
          "execution_count": 128
        }
      ]
    },
    {
      "cell_type": "code",
      "metadata": {
        "id": "ezLErdywQSFS",
        "colab": {
          "base_uri": "https://localhost:8080/"
        },
        "outputId": "ffabd938-4691-4c6e-b8cd-c94553e4e43b"
      },
      "source": [
        "tf.matmul(A2, B2)"
      ],
      "execution_count": 67,
      "outputs": [
        {
          "output_type": "execute_result",
          "data": {
            "text/plain": [
              "<tf.Tensor: shape=(2, 2), dtype=int32, numpy=\n",
              "array([[19, 22],\n",
              "       [43, 50]], dtype=int32)>"
            ]
          },
          "metadata": {},
          "execution_count": 67
        }
      ]
    },
    {
      "cell_type": "code",
      "metadata": {
        "id": "-sT63nRCQS5S",
        "colab": {
          "base_uri": "https://localhost:8080/"
        },
        "outputId": "826ca27f-f0ad-40e1-875a-746b74bc7c4c"
      },
      "source": [
        "tf.reduce_sum(A2), tf.reduce_sum(A2, axis=0), tf.reduce_sum(A2, axis=1)"
      ],
      "execution_count": 68,
      "outputs": [
        {
          "output_type": "execute_result",
          "data": {
            "text/plain": [
              "(<tf.Tensor: shape=(), dtype=int32, numpy=10>,\n",
              " <tf.Tensor: shape=(2,), dtype=int32, numpy=array([4, 6], dtype=int32)>,\n",
              " <tf.Tensor: shape=(2,), dtype=int32, numpy=array([3, 7], dtype=int32)>)"
            ]
          },
          "metadata": {},
          "execution_count": 68
        }
      ]
    },
    {
      "cell_type": "markdown",
      "metadata": {
        "id": "SXpeiNdUQTwG"
      },
      "source": [
        "## Advanced functions\n",
        "\n",
        "- GradientTape(): automatic differentiation\n",
        "- reshape(),\n",
        "- random()\n"
      ]
    },
    {
      "cell_type": "code",
      "metadata": {
        "id": "-u2fMs3XQYA_",
        "colab": {
          "base_uri": "https://localhost:8080/"
        },
        "outputId": "e4112801-7b1f-4994-b505-838320383f6f"
      },
      "source": [
        "x = tf.Variable(-1.0)\n",
        "with tf.GradientTape() as tape:\n",
        "    tape.watch(x)    # tracks the variable x\n",
        "    y = tf.multiply(x, x)\n",
        "\n",
        "g = tape.gradient(y, x)\n",
        "g.numpy()"
      ],
      "execution_count": 131,
      "outputs": [
        {
          "output_type": "execute_result",
          "data": {
            "text/plain": [
              "-2.0"
            ]
          },
          "metadata": {},
          "execution_count": 131
        }
      ]
    },
    {
      "cell_type": "code",
      "metadata": {
        "id": "tnfvotgYQgD9",
        "colab": {
          "base_uri": "https://localhost:8080/"
        },
        "outputId": "1dc40f2c-384e-47e2-e570-63773e15c9f6"
      },
      "source": [
        "gray1 = tf.random.uniform([2,2], maxval=255, dtype='int32')\n",
        "gray2 = tf.reshape(gray1, [2*2, 1])\n",
        "gray1, gray2"
      ],
      "execution_count": 70,
      "outputs": [
        {
          "output_type": "execute_result",
          "data": {
            "text/plain": [
              "(<tf.Tensor: shape=(2, 2), dtype=int32, numpy=\n",
              " array([[ 43,  26],\n",
              "        [195, 222]], dtype=int32)>,\n",
              " <tf.Tensor: shape=(4, 1), dtype=int32, numpy=\n",
              " array([[ 43],\n",
              "        [ 26],\n",
              "        [195],\n",
              "        [222]], dtype=int32)>)"
            ]
          },
          "metadata": {},
          "execution_count": 70
        }
      ]
    },
    {
      "cell_type": "code",
      "metadata": {
        "id": "ahpM0DTcQk2k",
        "colab": {
          "base_uri": "https://localhost:8080/"
        },
        "outputId": "49e9c858-4679-4d1e-a58d-878cc14c43af"
      },
      "source": [
        "color = tf.random.uniform([2,2,3], maxval=255, dtype='int32') # color image\n",
        "tf.reshape(color, [2*2, 3])"
      ],
      "execution_count": 71,
      "outputs": [
        {
          "output_type": "execute_result",
          "data": {
            "text/plain": [
              "<tf.Tensor: shape=(4, 3), dtype=int32, numpy=\n",
              "array([[ 68, 184, 226],\n",
              "       [168,  15, 227],\n",
              "       [246, 254, 103],\n",
              "       [ 41,  50, 119]], dtype=int32)>"
            ]
          },
          "metadata": {},
          "execution_count": 71
        }
      ]
    }
  ]
}